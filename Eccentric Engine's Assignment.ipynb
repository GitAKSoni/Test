{
 "cells": [
  {
   "cell_type": "code",
   "execution_count": 1,
   "id": "1e3f5ee2",
   "metadata": {},
   "outputs": [],
   "source": [
    "import numpy as np\n",
    "import pandas as pd\n",
    "import seaborn as sns\n",
    "import matplotlib.pyplot as plt\n",
    "%matplotlib inline\n",
    "import warnings\n",
    "warnings.filterwarnings(\"ignore\")\n",
    "from sklearn.linear_model import LogisticRegression\n",
    "from sklearn.model_selection import train_test_split,GridSearchCV\n",
    "from sklearn import metrics\n",
    "from sklearn.metrics import roc_auc_score,roc_curve,classification_report,confusion_matrix"
   ]
  },
  {
   "cell_type": "code",
   "execution_count": 2,
   "id": "6dafe07e",
   "metadata": {},
   "outputs": [
    {
     "data": {
      "text/html": [
       "<div>\n",
       "<style scoped>\n",
       "    .dataframe tbody tr th:only-of-type {\n",
       "        vertical-align: middle;\n",
       "    }\n",
       "\n",
       "    .dataframe tbody tr th {\n",
       "        vertical-align: top;\n",
       "    }\n",
       "\n",
       "    .dataframe thead th {\n",
       "        text-align: right;\n",
       "    }\n",
       "</style>\n",
       "<table border=\"1\" class=\"dataframe\">\n",
       "  <thead>\n",
       "    <tr style=\"text-align: right;\">\n",
       "      <th></th>\n",
       "      <th>ID</th>\n",
       "      <th>Created At</th>\n",
       "      <th>Updated At</th>\n",
       "      <th>Intro View</th>\n",
       "      <th>Audio Journey</th>\n",
       "      <th>Self Explore</th>\n",
       "      <th>Accessories</th>\n",
       "      <th>EMI</th>\n",
       "      <th>Exchange</th>\n",
       "      <th>Book Now</th>\n",
       "      <th>Finance</th>\n",
       "      <th>Test Drive</th>\n",
       "      <th>Terms &amp; Condition</th>\n",
       "      <th>Model ID</th>\n",
       "      <th>Variant ID</th>\n",
       "      <th>Showroom Price</th>\n",
       "      <th>Accessories price</th>\n",
       "      <th>City</th>\n",
       "      <th>State</th>\n",
       "      <th>Pincode</th>\n",
       "    </tr>\n",
       "  </thead>\n",
       "  <tbody>\n",
       "    <tr>\n",
       "      <th>0</th>\n",
       "      <td>1040781</td>\n",
       "      <td>2022-11-01 00:04:11</td>\n",
       "      <td>2022-11-01 00:21:05</td>\n",
       "      <td>yes</td>\n",
       "      <td>no</td>\n",
       "      <td>no</td>\n",
       "      <td>yes</td>\n",
       "      <td>no</td>\n",
       "      <td>no</td>\n",
       "      <td>no</td>\n",
       "      <td>no</td>\n",
       "      <td>no</td>\n",
       "      <td>no</td>\n",
       "      <td>3</td>\n",
       "      <td>62</td>\n",
       "      <td>2049800</td>\n",
       "      <td>68629.0</td>\n",
       "      <td>Delhi</td>\n",
       "      <td>Delhi</td>\n",
       "      <td>NaN</td>\n",
       "    </tr>\n",
       "    <tr>\n",
       "      <th>1</th>\n",
       "      <td>1040782</td>\n",
       "      <td>2022-11-01 00:04:24</td>\n",
       "      <td>2022-11-01 00:04:24</td>\n",
       "      <td>no</td>\n",
       "      <td>no</td>\n",
       "      <td>no</td>\n",
       "      <td>no</td>\n",
       "      <td>no</td>\n",
       "      <td>no</td>\n",
       "      <td>no</td>\n",
       "      <td>no</td>\n",
       "      <td>no</td>\n",
       "      <td>no</td>\n",
       "      <td>3</td>\n",
       "      <td>62</td>\n",
       "      <td>2069800</td>\n",
       "      <td>NaN</td>\n",
       "      <td>Delhi</td>\n",
       "      <td>Delhi</td>\n",
       "      <td>NaN</td>\n",
       "    </tr>\n",
       "    <tr>\n",
       "      <th>2</th>\n",
       "      <td>1040783</td>\n",
       "      <td>2022-11-01 00:04:55</td>\n",
       "      <td>2022-11-01 00:04:55</td>\n",
       "      <td>no</td>\n",
       "      <td>no</td>\n",
       "      <td>no</td>\n",
       "      <td>no</td>\n",
       "      <td>no</td>\n",
       "      <td>no</td>\n",
       "      <td>no</td>\n",
       "      <td>no</td>\n",
       "      <td>no</td>\n",
       "      <td>no</td>\n",
       "      <td>3</td>\n",
       "      <td>62</td>\n",
       "      <td>2069800</td>\n",
       "      <td>0.0</td>\n",
       "      <td>Delhi</td>\n",
       "      <td>Delhi</td>\n",
       "      <td>NaN</td>\n",
       "    </tr>\n",
       "    <tr>\n",
       "      <th>3</th>\n",
       "      <td>1040784</td>\n",
       "      <td>2022-11-01 00:08:32</td>\n",
       "      <td>2022-11-01 00:31:51</td>\n",
       "      <td>no</td>\n",
       "      <td>no</td>\n",
       "      <td>no</td>\n",
       "      <td>yes</td>\n",
       "      <td>no</td>\n",
       "      <td>no</td>\n",
       "      <td>no</td>\n",
       "      <td>no</td>\n",
       "      <td>no</td>\n",
       "      <td>no</td>\n",
       "      <td>5</td>\n",
       "      <td>85</td>\n",
       "      <td>1455800</td>\n",
       "      <td>21697.0</td>\n",
       "      <td>Delhi</td>\n",
       "      <td>Delhi</td>\n",
       "      <td>NaN</td>\n",
       "    </tr>\n",
       "    <tr>\n",
       "      <th>4</th>\n",
       "      <td>1040785</td>\n",
       "      <td>2022-11-01 00:08:34</td>\n",
       "      <td>2022-11-01 00:09:20</td>\n",
       "      <td>no</td>\n",
       "      <td>no</td>\n",
       "      <td>no</td>\n",
       "      <td>no</td>\n",
       "      <td>no</td>\n",
       "      <td>no</td>\n",
       "      <td>no</td>\n",
       "      <td>no</td>\n",
       "      <td>no</td>\n",
       "      <td>no</td>\n",
       "      <td>4</td>\n",
       "      <td>93</td>\n",
       "      <td>4077800</td>\n",
       "      <td>0.0</td>\n",
       "      <td>Delhi</td>\n",
       "      <td>Delhi</td>\n",
       "      <td>NaN</td>\n",
       "    </tr>\n",
       "    <tr>\n",
       "      <th>...</th>\n",
       "      <td>...</td>\n",
       "      <td>...</td>\n",
       "      <td>...</td>\n",
       "      <td>...</td>\n",
       "      <td>...</td>\n",
       "      <td>...</td>\n",
       "      <td>...</td>\n",
       "      <td>...</td>\n",
       "      <td>...</td>\n",
       "      <td>...</td>\n",
       "      <td>...</td>\n",
       "      <td>...</td>\n",
       "      <td>...</td>\n",
       "      <td>...</td>\n",
       "      <td>...</td>\n",
       "      <td>...</td>\n",
       "      <td>...</td>\n",
       "      <td>...</td>\n",
       "      <td>...</td>\n",
       "      <td>...</td>\n",
       "    </tr>\n",
       "    <tr>\n",
       "      <th>13021</th>\n",
       "      <td>1060903</td>\n",
       "      <td>2022-11-30 23:44:05</td>\n",
       "      <td>2022-11-30 23:44:05</td>\n",
       "      <td>no</td>\n",
       "      <td>no</td>\n",
       "      <td>no</td>\n",
       "      <td>no</td>\n",
       "      <td>no</td>\n",
       "      <td>no</td>\n",
       "      <td>no</td>\n",
       "      <td>no</td>\n",
       "      <td>no</td>\n",
       "      <td>no</td>\n",
       "      <td>6</td>\n",
       "      <td>81</td>\n",
       "      <td>2258000</td>\n",
       "      <td>0.0</td>\n",
       "      <td>Delhi</td>\n",
       "      <td>Delhi</td>\n",
       "      <td>NaN</td>\n",
       "    </tr>\n",
       "    <tr>\n",
       "      <th>13022</th>\n",
       "      <td>1060904</td>\n",
       "      <td>2022-11-30 23:52:39</td>\n",
       "      <td>2022-11-30 23:52:39</td>\n",
       "      <td>no</td>\n",
       "      <td>no</td>\n",
       "      <td>no</td>\n",
       "      <td>no</td>\n",
       "      <td>no</td>\n",
       "      <td>no</td>\n",
       "      <td>no</td>\n",
       "      <td>no</td>\n",
       "      <td>no</td>\n",
       "      <td>no</td>\n",
       "      <td>5</td>\n",
       "      <td>74</td>\n",
       "      <td>1669800</td>\n",
       "      <td>0.0</td>\n",
       "      <td>Delhi</td>\n",
       "      <td>Delhi</td>\n",
       "      <td>NaN</td>\n",
       "    </tr>\n",
       "    <tr>\n",
       "      <th>13023</th>\n",
       "      <td>1060905</td>\n",
       "      <td>2022-11-30 23:53:21</td>\n",
       "      <td>2022-11-30 23:53:21</td>\n",
       "      <td>no</td>\n",
       "      <td>no</td>\n",
       "      <td>no</td>\n",
       "      <td>no</td>\n",
       "      <td>no</td>\n",
       "      <td>no</td>\n",
       "      <td>no</td>\n",
       "      <td>no</td>\n",
       "      <td>no</td>\n",
       "      <td>no</td>\n",
       "      <td>1</td>\n",
       "      <td>46</td>\n",
       "      <td>1977800</td>\n",
       "      <td>0.0</td>\n",
       "      <td>Delhi</td>\n",
       "      <td>Delhi</td>\n",
       "      <td>NaN</td>\n",
       "    </tr>\n",
       "    <tr>\n",
       "      <th>13024</th>\n",
       "      <td>1060906</td>\n",
       "      <td>2022-11-30 23:57:56</td>\n",
       "      <td>2022-12-01 00:05:45</td>\n",
       "      <td>no</td>\n",
       "      <td>no</td>\n",
       "      <td>no</td>\n",
       "      <td>yes</td>\n",
       "      <td>no</td>\n",
       "      <td>no</td>\n",
       "      <td>no</td>\n",
       "      <td>no</td>\n",
       "      <td>no</td>\n",
       "      <td>no</td>\n",
       "      <td>5</td>\n",
       "      <td>74</td>\n",
       "      <td>1669800</td>\n",
       "      <td>16963.0</td>\n",
       "      <td>Bengaluru</td>\n",
       "      <td>Karnataka</td>\n",
       "      <td>NaN</td>\n",
       "    </tr>\n",
       "    <tr>\n",
       "      <th>13025</th>\n",
       "      <td>1060907</td>\n",
       "      <td>2022-11-30 23:59:43</td>\n",
       "      <td>2022-12-01 00:15:00</td>\n",
       "      <td>no</td>\n",
       "      <td>no</td>\n",
       "      <td>no</td>\n",
       "      <td>yes</td>\n",
       "      <td>yes</td>\n",
       "      <td>no</td>\n",
       "      <td>no</td>\n",
       "      <td>no</td>\n",
       "      <td>no</td>\n",
       "      <td>no</td>\n",
       "      <td>4</td>\n",
       "      <td>93</td>\n",
       "      <td>4077800</td>\n",
       "      <td>73033.0</td>\n",
       "      <td>Thane</td>\n",
       "      <td>Maharashtra</td>\n",
       "      <td>NaN</td>\n",
       "    </tr>\n",
       "  </tbody>\n",
       "</table>\n",
       "<p>13026 rows × 20 columns</p>\n",
       "</div>"
      ],
      "text/plain": [
       "            ID          Created At          Updated At Intro View  \\\n",
       "0      1040781 2022-11-01 00:04:11 2022-11-01 00:21:05        yes   \n",
       "1      1040782 2022-11-01 00:04:24 2022-11-01 00:04:24         no   \n",
       "2      1040783 2022-11-01 00:04:55 2022-11-01 00:04:55         no   \n",
       "3      1040784 2022-11-01 00:08:32 2022-11-01 00:31:51         no   \n",
       "4      1040785 2022-11-01 00:08:34 2022-11-01 00:09:20         no   \n",
       "...        ...                 ...                 ...        ...   \n",
       "13021  1060903 2022-11-30 23:44:05 2022-11-30 23:44:05         no   \n",
       "13022  1060904 2022-11-30 23:52:39 2022-11-30 23:52:39         no   \n",
       "13023  1060905 2022-11-30 23:53:21 2022-11-30 23:53:21         no   \n",
       "13024  1060906 2022-11-30 23:57:56 2022-12-01 00:05:45         no   \n",
       "13025  1060907 2022-11-30 23:59:43 2022-12-01 00:15:00         no   \n",
       "\n",
       "      Audio Journey Self Explore Accessories  EMI Exchange Book Now Finance  \\\n",
       "0                no           no         yes   no       no       no      no   \n",
       "1                no           no          no   no       no       no      no   \n",
       "2                no           no          no   no       no       no      no   \n",
       "3                no           no         yes   no       no       no      no   \n",
       "4                no           no          no   no       no       no      no   \n",
       "...             ...          ...         ...  ...      ...      ...     ...   \n",
       "13021            no           no          no   no       no       no      no   \n",
       "13022            no           no          no   no       no       no      no   \n",
       "13023            no           no          no   no       no       no      no   \n",
       "13024            no           no         yes   no       no       no      no   \n",
       "13025            no           no         yes  yes       no       no      no   \n",
       "\n",
       "      Test Drive Terms & Condition  Model ID  Variant ID  Showroom Price  \\\n",
       "0             no                no         3          62         2049800   \n",
       "1             no                no         3          62         2069800   \n",
       "2             no                no         3          62         2069800   \n",
       "3             no                no         5          85         1455800   \n",
       "4             no                no         4          93         4077800   \n",
       "...          ...               ...       ...         ...             ...   \n",
       "13021         no                no         6          81         2258000   \n",
       "13022         no                no         5          74         1669800   \n",
       "13023         no                no         1          46         1977800   \n",
       "13024         no                no         5          74         1669800   \n",
       "13025         no                no         4          93         4077800   \n",
       "\n",
       "       Accessories price       City        State  Pincode  \n",
       "0                68629.0      Delhi        Delhi      NaN  \n",
       "1                    NaN      Delhi        Delhi      NaN  \n",
       "2                    0.0      Delhi        Delhi      NaN  \n",
       "3                21697.0      Delhi        Delhi      NaN  \n",
       "4                    0.0      Delhi        Delhi      NaN  \n",
       "...                  ...        ...          ...      ...  \n",
       "13021                0.0      Delhi        Delhi      NaN  \n",
       "13022                0.0      Delhi        Delhi      NaN  \n",
       "13023                0.0      Delhi        Delhi      NaN  \n",
       "13024            16963.0  Bengaluru    Karnataka      NaN  \n",
       "13025            73033.0      Thane  Maharashtra      NaN  \n",
       "\n",
       "[13026 rows x 20 columns]"
      ]
     },
     "execution_count": 2,
     "metadata": {},
     "output_type": "execute_result"
    }
   ],
   "source": [
    "A = pd.read_excel(\"C:/Users/adiso/Downloads/Customer Journey data_DA Assignment.xlsx\", sheet_name = \"Data\")\n",
    "A"
   ]
  },
  {
   "cell_type": "code",
   "execution_count": 3,
   "id": "a2bb5975",
   "metadata": {},
   "outputs": [
    {
     "name": "stdout",
     "output_type": "stream",
     "text": [
      "<class 'pandas.core.frame.DataFrame'>\n",
      "RangeIndex: 13026 entries, 0 to 13025\n",
      "Data columns (total 20 columns):\n",
      " #   Column             Non-Null Count  Dtype         \n",
      "---  ------             --------------  -----         \n",
      " 0   ID                 13026 non-null  int64         \n",
      " 1   Created At         13026 non-null  datetime64[ns]\n",
      " 2   Updated At         13026 non-null  datetime64[ns]\n",
      " 3   Intro View         13026 non-null  object        \n",
      " 4   Audio Journey      13026 non-null  object        \n",
      " 5   Self Explore       13026 non-null  object        \n",
      " 6   Accessories        13026 non-null  object        \n",
      " 7   EMI                13026 non-null  object        \n",
      " 8   Exchange           13026 non-null  object        \n",
      " 9   Book Now           13026 non-null  object        \n",
      " 10  Finance            13026 non-null  object        \n",
      " 11  Test Drive         13026 non-null  object        \n",
      " 12  Terms & Condition  13026 non-null  object        \n",
      " 13  Model ID           13026 non-null  int64         \n",
      " 14  Variant ID         13026 non-null  int64         \n",
      " 15  Showroom Price     13026 non-null  int64         \n",
      " 16  Accessories price  10498 non-null  float64       \n",
      " 17  City               13026 non-null  object        \n",
      " 18  State              13026 non-null  object        \n",
      " 19  Pincode            1165 non-null   float64       \n",
      "dtypes: datetime64[ns](2), float64(2), int64(4), object(12)\n",
      "memory usage: 2.0+ MB\n"
     ]
    }
   ],
   "source": [
    "A.info()"
   ]
  },
  {
   "cell_type": "code",
   "execution_count": 4,
   "id": "e5c40ff0",
   "metadata": {},
   "outputs": [
    {
     "data": {
      "text/html": [
       "<div>\n",
       "<style scoped>\n",
       "    .dataframe tbody tr th:only-of-type {\n",
       "        vertical-align: middle;\n",
       "    }\n",
       "\n",
       "    .dataframe tbody tr th {\n",
       "        vertical-align: top;\n",
       "    }\n",
       "\n",
       "    .dataframe thead th {\n",
       "        text-align: right;\n",
       "    }\n",
       "</style>\n",
       "<table border=\"1\" class=\"dataframe\">\n",
       "  <thead>\n",
       "    <tr style=\"text-align: right;\">\n",
       "      <th></th>\n",
       "      <th>ID</th>\n",
       "      <th>Model ID</th>\n",
       "      <th>Variant ID</th>\n",
       "      <th>Showroom Price</th>\n",
       "      <th>Accessories price</th>\n",
       "      <th>Pincode</th>\n",
       "    </tr>\n",
       "  </thead>\n",
       "  <tbody>\n",
       "    <tr>\n",
       "      <th>count</th>\n",
       "      <td>1.302600e+04</td>\n",
       "      <td>13026.000000</td>\n",
       "      <td>13026.000000</td>\n",
       "      <td>1.302600e+04</td>\n",
       "      <td>10498.000000</td>\n",
       "      <td>1165.000000</td>\n",
       "    </tr>\n",
       "    <tr>\n",
       "      <th>mean</th>\n",
       "      <td>1.050714e+06</td>\n",
       "      <td>3.708506</td>\n",
       "      <td>68.787655</td>\n",
       "      <td>2.067519e+06</td>\n",
       "      <td>8760.733854</td>\n",
       "      <td>392328.202575</td>\n",
       "    </tr>\n",
       "    <tr>\n",
       "      <th>std</th>\n",
       "      <td>5.839826e+03</td>\n",
       "      <td>1.752568</td>\n",
       "      <td>16.238966</td>\n",
       "      <td>7.372671e+05</td>\n",
       "      <td>18385.797050</td>\n",
       "      <td>183080.133221</td>\n",
       "    </tr>\n",
       "    <tr>\n",
       "      <th>min</th>\n",
       "      <td>1.040781e+06</td>\n",
       "      <td>1.000000</td>\n",
       "      <td>36.000000</td>\n",
       "      <td>1.031800e+06</td>\n",
       "      <td>0.000000</td>\n",
       "      <td>100001.000000</td>\n",
       "    </tr>\n",
       "    <tr>\n",
       "      <th>25%</th>\n",
       "      <td>1.045609e+06</td>\n",
       "      <td>3.000000</td>\n",
       "      <td>59.000000</td>\n",
       "      <td>1.669800e+06</td>\n",
       "      <td>0.000000</td>\n",
       "      <td>141001.000000</td>\n",
       "    </tr>\n",
       "    <tr>\n",
       "      <th>50%</th>\n",
       "      <td>1.050596e+06</td>\n",
       "      <td>5.000000</td>\n",
       "      <td>73.000000</td>\n",
       "      <td>1.977800e+06</td>\n",
       "      <td>0.000000</td>\n",
       "      <td>410209.000000</td>\n",
       "    </tr>\n",
       "    <tr>\n",
       "      <th>75%</th>\n",
       "      <td>1.055752e+06</td>\n",
       "      <td>5.000000</td>\n",
       "      <td>80.000000</td>\n",
       "      <td>2.069800e+06</td>\n",
       "      <td>8004.000000</td>\n",
       "      <td>530068.000000</td>\n",
       "    </tr>\n",
       "    <tr>\n",
       "      <th>max</th>\n",
       "      <td>1.060907e+06</td>\n",
       "      <td>7.000000</td>\n",
       "      <td>136.000000</td>\n",
       "      <td>4.077800e+06</td>\n",
       "      <td>140892.000000</td>\n",
       "      <td>829205.000000</td>\n",
       "    </tr>\n",
       "  </tbody>\n",
       "</table>\n",
       "</div>"
      ],
      "text/plain": [
       "                 ID      Model ID    Variant ID  Showroom Price  \\\n",
       "count  1.302600e+04  13026.000000  13026.000000    1.302600e+04   \n",
       "mean   1.050714e+06      3.708506     68.787655    2.067519e+06   \n",
       "std    5.839826e+03      1.752568     16.238966    7.372671e+05   \n",
       "min    1.040781e+06      1.000000     36.000000    1.031800e+06   \n",
       "25%    1.045609e+06      3.000000     59.000000    1.669800e+06   \n",
       "50%    1.050596e+06      5.000000     73.000000    1.977800e+06   \n",
       "75%    1.055752e+06      5.000000     80.000000    2.069800e+06   \n",
       "max    1.060907e+06      7.000000    136.000000    4.077800e+06   \n",
       "\n",
       "       Accessories price        Pincode  \n",
       "count       10498.000000    1165.000000  \n",
       "mean         8760.733854  392328.202575  \n",
       "std         18385.797050  183080.133221  \n",
       "min             0.000000  100001.000000  \n",
       "25%             0.000000  141001.000000  \n",
       "50%             0.000000  410209.000000  \n",
       "75%          8004.000000  530068.000000  \n",
       "max        140892.000000  829205.000000  "
      ]
     },
     "execution_count": 4,
     "metadata": {},
     "output_type": "execute_result"
    }
   ],
   "source": [
    "A.describe()"
   ]
  },
  {
   "cell_type": "code",
   "execution_count": 5,
   "id": "af5ebcb9",
   "metadata": {},
   "outputs": [],
   "source": [
    "A_new = A.drop(['Created At', 'Updated At', 'ID','Terms & Condition', 'Finance', 'Exchange', 'Pincode', 'City', 'State'], axis=1)"
   ]
  },
  {
   "cell_type": "code",
   "execution_count": 6,
   "id": "c2b53456",
   "metadata": {},
   "outputs": [
    {
     "data": {
      "text/html": [
       "<div>\n",
       "<style scoped>\n",
       "    .dataframe tbody tr th:only-of-type {\n",
       "        vertical-align: middle;\n",
       "    }\n",
       "\n",
       "    .dataframe tbody tr th {\n",
       "        vertical-align: top;\n",
       "    }\n",
       "\n",
       "    .dataframe thead th {\n",
       "        text-align: right;\n",
       "    }\n",
       "</style>\n",
       "<table border=\"1\" class=\"dataframe\">\n",
       "  <thead>\n",
       "    <tr style=\"text-align: right;\">\n",
       "      <th></th>\n",
       "      <th>Intro View</th>\n",
       "      <th>Audio Journey</th>\n",
       "      <th>Self Explore</th>\n",
       "      <th>Accessories</th>\n",
       "      <th>EMI</th>\n",
       "      <th>Book Now</th>\n",
       "      <th>Test Drive</th>\n",
       "      <th>Model ID</th>\n",
       "      <th>Variant ID</th>\n",
       "      <th>Showroom Price</th>\n",
       "      <th>Accessories price</th>\n",
       "    </tr>\n",
       "  </thead>\n",
       "  <tbody>\n",
       "    <tr>\n",
       "      <th>0</th>\n",
       "      <td>yes</td>\n",
       "      <td>no</td>\n",
       "      <td>no</td>\n",
       "      <td>yes</td>\n",
       "      <td>no</td>\n",
       "      <td>no</td>\n",
       "      <td>no</td>\n",
       "      <td>3</td>\n",
       "      <td>62</td>\n",
       "      <td>2049800</td>\n",
       "      <td>68629.0</td>\n",
       "    </tr>\n",
       "    <tr>\n",
       "      <th>1</th>\n",
       "      <td>no</td>\n",
       "      <td>no</td>\n",
       "      <td>no</td>\n",
       "      <td>no</td>\n",
       "      <td>no</td>\n",
       "      <td>no</td>\n",
       "      <td>no</td>\n",
       "      <td>3</td>\n",
       "      <td>62</td>\n",
       "      <td>2069800</td>\n",
       "      <td>NaN</td>\n",
       "    </tr>\n",
       "    <tr>\n",
       "      <th>2</th>\n",
       "      <td>no</td>\n",
       "      <td>no</td>\n",
       "      <td>no</td>\n",
       "      <td>no</td>\n",
       "      <td>no</td>\n",
       "      <td>no</td>\n",
       "      <td>no</td>\n",
       "      <td>3</td>\n",
       "      <td>62</td>\n",
       "      <td>2069800</td>\n",
       "      <td>0.0</td>\n",
       "    </tr>\n",
       "    <tr>\n",
       "      <th>3</th>\n",
       "      <td>no</td>\n",
       "      <td>no</td>\n",
       "      <td>no</td>\n",
       "      <td>yes</td>\n",
       "      <td>no</td>\n",
       "      <td>no</td>\n",
       "      <td>no</td>\n",
       "      <td>5</td>\n",
       "      <td>85</td>\n",
       "      <td>1455800</td>\n",
       "      <td>21697.0</td>\n",
       "    </tr>\n",
       "    <tr>\n",
       "      <th>4</th>\n",
       "      <td>no</td>\n",
       "      <td>no</td>\n",
       "      <td>no</td>\n",
       "      <td>no</td>\n",
       "      <td>no</td>\n",
       "      <td>no</td>\n",
       "      <td>no</td>\n",
       "      <td>4</td>\n",
       "      <td>93</td>\n",
       "      <td>4077800</td>\n",
       "      <td>0.0</td>\n",
       "    </tr>\n",
       "    <tr>\n",
       "      <th>...</th>\n",
       "      <td>...</td>\n",
       "      <td>...</td>\n",
       "      <td>...</td>\n",
       "      <td>...</td>\n",
       "      <td>...</td>\n",
       "      <td>...</td>\n",
       "      <td>...</td>\n",
       "      <td>...</td>\n",
       "      <td>...</td>\n",
       "      <td>...</td>\n",
       "      <td>...</td>\n",
       "    </tr>\n",
       "    <tr>\n",
       "      <th>13021</th>\n",
       "      <td>no</td>\n",
       "      <td>no</td>\n",
       "      <td>no</td>\n",
       "      <td>no</td>\n",
       "      <td>no</td>\n",
       "      <td>no</td>\n",
       "      <td>no</td>\n",
       "      <td>6</td>\n",
       "      <td>81</td>\n",
       "      <td>2258000</td>\n",
       "      <td>0.0</td>\n",
       "    </tr>\n",
       "    <tr>\n",
       "      <th>13022</th>\n",
       "      <td>no</td>\n",
       "      <td>no</td>\n",
       "      <td>no</td>\n",
       "      <td>no</td>\n",
       "      <td>no</td>\n",
       "      <td>no</td>\n",
       "      <td>no</td>\n",
       "      <td>5</td>\n",
       "      <td>74</td>\n",
       "      <td>1669800</td>\n",
       "      <td>0.0</td>\n",
       "    </tr>\n",
       "    <tr>\n",
       "      <th>13023</th>\n",
       "      <td>no</td>\n",
       "      <td>no</td>\n",
       "      <td>no</td>\n",
       "      <td>no</td>\n",
       "      <td>no</td>\n",
       "      <td>no</td>\n",
       "      <td>no</td>\n",
       "      <td>1</td>\n",
       "      <td>46</td>\n",
       "      <td>1977800</td>\n",
       "      <td>0.0</td>\n",
       "    </tr>\n",
       "    <tr>\n",
       "      <th>13024</th>\n",
       "      <td>no</td>\n",
       "      <td>no</td>\n",
       "      <td>no</td>\n",
       "      <td>yes</td>\n",
       "      <td>no</td>\n",
       "      <td>no</td>\n",
       "      <td>no</td>\n",
       "      <td>5</td>\n",
       "      <td>74</td>\n",
       "      <td>1669800</td>\n",
       "      <td>16963.0</td>\n",
       "    </tr>\n",
       "    <tr>\n",
       "      <th>13025</th>\n",
       "      <td>no</td>\n",
       "      <td>no</td>\n",
       "      <td>no</td>\n",
       "      <td>yes</td>\n",
       "      <td>yes</td>\n",
       "      <td>no</td>\n",
       "      <td>no</td>\n",
       "      <td>4</td>\n",
       "      <td>93</td>\n",
       "      <td>4077800</td>\n",
       "      <td>73033.0</td>\n",
       "    </tr>\n",
       "  </tbody>\n",
       "</table>\n",
       "<p>13026 rows × 11 columns</p>\n",
       "</div>"
      ],
      "text/plain": [
       "      Intro View Audio Journey Self Explore Accessories  EMI Book Now  \\\n",
       "0            yes            no           no         yes   no       no   \n",
       "1             no            no           no          no   no       no   \n",
       "2             no            no           no          no   no       no   \n",
       "3             no            no           no         yes   no       no   \n",
       "4             no            no           no          no   no       no   \n",
       "...          ...           ...          ...         ...  ...      ...   \n",
       "13021         no            no           no          no   no       no   \n",
       "13022         no            no           no          no   no       no   \n",
       "13023         no            no           no          no   no       no   \n",
       "13024         no            no           no         yes   no       no   \n",
       "13025         no            no           no         yes  yes       no   \n",
       "\n",
       "      Test Drive  Model ID  Variant ID  Showroom Price  Accessories price  \n",
       "0             no         3          62         2049800            68629.0  \n",
       "1             no         3          62         2069800                NaN  \n",
       "2             no         3          62         2069800                0.0  \n",
       "3             no         5          85         1455800            21697.0  \n",
       "4             no         4          93         4077800                0.0  \n",
       "...          ...       ...         ...             ...                ...  \n",
       "13021         no         6          81         2258000                0.0  \n",
       "13022         no         5          74         1669800                0.0  \n",
       "13023         no         1          46         1977800                0.0  \n",
       "13024         no         5          74         1669800            16963.0  \n",
       "13025         no         4          93         4077800            73033.0  \n",
       "\n",
       "[13026 rows x 11 columns]"
      ]
     },
     "execution_count": 6,
     "metadata": {},
     "output_type": "execute_result"
    }
   ],
   "source": [
    "A_new"
   ]
  },
  {
   "cell_type": "code",
   "execution_count": 7,
   "id": "c907ae38",
   "metadata": {},
   "outputs": [
    {
     "name": "stdout",
     "output_type": "stream",
     "text": [
      "Number of duplicate rows = 8924\n"
     ]
    },
    {
     "data": {
      "text/html": [
       "<div>\n",
       "<style scoped>\n",
       "    .dataframe tbody tr th:only-of-type {\n",
       "        vertical-align: middle;\n",
       "    }\n",
       "\n",
       "    .dataframe tbody tr th {\n",
       "        vertical-align: top;\n",
       "    }\n",
       "\n",
       "    .dataframe thead th {\n",
       "        text-align: right;\n",
       "    }\n",
       "</style>\n",
       "<table border=\"1\" class=\"dataframe\">\n",
       "  <thead>\n",
       "    <tr style=\"text-align: right;\">\n",
       "      <th></th>\n",
       "      <th>Intro View</th>\n",
       "      <th>Audio Journey</th>\n",
       "      <th>Self Explore</th>\n",
       "      <th>Accessories</th>\n",
       "      <th>EMI</th>\n",
       "      <th>Book Now</th>\n",
       "      <th>Test Drive</th>\n",
       "      <th>Model ID</th>\n",
       "      <th>Variant ID</th>\n",
       "      <th>Showroom Price</th>\n",
       "      <th>Accessories price</th>\n",
       "    </tr>\n",
       "  </thead>\n",
       "  <tbody>\n",
       "    <tr>\n",
       "      <th>23</th>\n",
       "      <td>no</td>\n",
       "      <td>no</td>\n",
       "      <td>no</td>\n",
       "      <td>yes</td>\n",
       "      <td>no</td>\n",
       "      <td>no</td>\n",
       "      <td>no</td>\n",
       "      <td>5</td>\n",
       "      <td>75</td>\n",
       "      <td>1822800</td>\n",
       "      <td>848.0</td>\n",
       "    </tr>\n",
       "    <tr>\n",
       "      <th>36</th>\n",
       "      <td>yes</td>\n",
       "      <td>no</td>\n",
       "      <td>no</td>\n",
       "      <td>no</td>\n",
       "      <td>no</td>\n",
       "      <td>no</td>\n",
       "      <td>no</td>\n",
       "      <td>5</td>\n",
       "      <td>75</td>\n",
       "      <td>1822800</td>\n",
       "      <td>0.0</td>\n",
       "    </tr>\n",
       "    <tr>\n",
       "      <th>37</th>\n",
       "      <td>no</td>\n",
       "      <td>no</td>\n",
       "      <td>yes</td>\n",
       "      <td>no</td>\n",
       "      <td>no</td>\n",
       "      <td>no</td>\n",
       "      <td>no</td>\n",
       "      <td>4</td>\n",
       "      <td>88</td>\n",
       "      <td>4077800</td>\n",
       "      <td>NaN</td>\n",
       "    </tr>\n",
       "    <tr>\n",
       "      <th>48</th>\n",
       "      <td>yes</td>\n",
       "      <td>no</td>\n",
       "      <td>no</td>\n",
       "      <td>no</td>\n",
       "      <td>no</td>\n",
       "      <td>no</td>\n",
       "      <td>no</td>\n",
       "      <td>1</td>\n",
       "      <td>46</td>\n",
       "      <td>1977800</td>\n",
       "      <td>NaN</td>\n",
       "    </tr>\n",
       "    <tr>\n",
       "      <th>50</th>\n",
       "      <td>yes</td>\n",
       "      <td>no</td>\n",
       "      <td>no</td>\n",
       "      <td>no</td>\n",
       "      <td>no</td>\n",
       "      <td>no</td>\n",
       "      <td>no</td>\n",
       "      <td>1</td>\n",
       "      <td>46</td>\n",
       "      <td>1977800</td>\n",
       "      <td>NaN</td>\n",
       "    </tr>\n",
       "    <tr>\n",
       "      <th>...</th>\n",
       "      <td>...</td>\n",
       "      <td>...</td>\n",
       "      <td>...</td>\n",
       "      <td>...</td>\n",
       "      <td>...</td>\n",
       "      <td>...</td>\n",
       "      <td>...</td>\n",
       "      <td>...</td>\n",
       "      <td>...</td>\n",
       "      <td>...</td>\n",
       "      <td>...</td>\n",
       "    </tr>\n",
       "    <tr>\n",
       "      <th>13020</th>\n",
       "      <td>no</td>\n",
       "      <td>no</td>\n",
       "      <td>no</td>\n",
       "      <td>yes</td>\n",
       "      <td>no</td>\n",
       "      <td>no</td>\n",
       "      <td>no</td>\n",
       "      <td>5</td>\n",
       "      <td>75</td>\n",
       "      <td>1822800</td>\n",
       "      <td>848.0</td>\n",
       "    </tr>\n",
       "    <tr>\n",
       "      <th>13021</th>\n",
       "      <td>no</td>\n",
       "      <td>no</td>\n",
       "      <td>no</td>\n",
       "      <td>no</td>\n",
       "      <td>no</td>\n",
       "      <td>no</td>\n",
       "      <td>no</td>\n",
       "      <td>6</td>\n",
       "      <td>81</td>\n",
       "      <td>2258000</td>\n",
       "      <td>0.0</td>\n",
       "    </tr>\n",
       "    <tr>\n",
       "      <th>13022</th>\n",
       "      <td>no</td>\n",
       "      <td>no</td>\n",
       "      <td>no</td>\n",
       "      <td>no</td>\n",
       "      <td>no</td>\n",
       "      <td>no</td>\n",
       "      <td>no</td>\n",
       "      <td>5</td>\n",
       "      <td>74</td>\n",
       "      <td>1669800</td>\n",
       "      <td>0.0</td>\n",
       "    </tr>\n",
       "    <tr>\n",
       "      <th>13023</th>\n",
       "      <td>no</td>\n",
       "      <td>no</td>\n",
       "      <td>no</td>\n",
       "      <td>no</td>\n",
       "      <td>no</td>\n",
       "      <td>no</td>\n",
       "      <td>no</td>\n",
       "      <td>1</td>\n",
       "      <td>46</td>\n",
       "      <td>1977800</td>\n",
       "      <td>0.0</td>\n",
       "    </tr>\n",
       "    <tr>\n",
       "      <th>13025</th>\n",
       "      <td>no</td>\n",
       "      <td>no</td>\n",
       "      <td>no</td>\n",
       "      <td>yes</td>\n",
       "      <td>yes</td>\n",
       "      <td>no</td>\n",
       "      <td>no</td>\n",
       "      <td>4</td>\n",
       "      <td>93</td>\n",
       "      <td>4077800</td>\n",
       "      <td>73033.0</td>\n",
       "    </tr>\n",
       "  </tbody>\n",
       "</table>\n",
       "<p>8924 rows × 11 columns</p>\n",
       "</div>"
      ],
      "text/plain": [
       "      Intro View Audio Journey Self Explore Accessories  EMI Book Now  \\\n",
       "23            no            no           no         yes   no       no   \n",
       "36           yes            no           no          no   no       no   \n",
       "37            no            no          yes          no   no       no   \n",
       "48           yes            no           no          no   no       no   \n",
       "50           yes            no           no          no   no       no   \n",
       "...          ...           ...          ...         ...  ...      ...   \n",
       "13020         no            no           no         yes   no       no   \n",
       "13021         no            no           no          no   no       no   \n",
       "13022         no            no           no          no   no       no   \n",
       "13023         no            no           no          no   no       no   \n",
       "13025         no            no           no         yes  yes       no   \n",
       "\n",
       "      Test Drive  Model ID  Variant ID  Showroom Price  Accessories price  \n",
       "23            no         5          75         1822800              848.0  \n",
       "36            no         5          75         1822800                0.0  \n",
       "37            no         4          88         4077800                NaN  \n",
       "48            no         1          46         1977800                NaN  \n",
       "50            no         1          46         1977800                NaN  \n",
       "...          ...       ...         ...             ...                ...  \n",
       "13020         no         5          75         1822800              848.0  \n",
       "13021         no         6          81         2258000                0.0  \n",
       "13022         no         5          74         1669800                0.0  \n",
       "13023         no         1          46         1977800                0.0  \n",
       "13025         no         4          93         4077800            73033.0  \n",
       "\n",
       "[8924 rows x 11 columns]"
      ]
     },
     "execution_count": 7,
     "metadata": {},
     "output_type": "execute_result"
    }
   ],
   "source": [
    "dups = A_new.duplicated()\n",
    "print('Number of duplicate rows = %d' % (dups.sum()))\n",
    "A_new[dups]"
   ]
  },
  {
   "cell_type": "code",
   "execution_count": 8,
   "id": "cf5ef06a",
   "metadata": {},
   "outputs": [],
   "source": [
    "def univariateAnalysis_numeric(column,nbins):\n",
    "    print(\"Description of \" + column)\n",
    "    print(\"----------------------------------------------------------------------------\")\n",
    "    print(A_new[column].describe(),end=' ')\n",
    "    \n",
    "    \n",
    "    plt.figure()\n",
    "    print(\"Distribution of \" + column)\n",
    "    print(\"----------------------------------------------------------------------------\")\n",
    "    sns.distplot(A_new[column], kde=False, color='g');\n",
    "    plt.show()\n",
    "    \n",
    "    plt.figure()\n",
    "    print(\"BoxPlot of \" + column)\n",
    "    print(\"----------------------------------------------------------------------------\")\n",
    "    ax = sns.boxplot(x=A_new[column])\n",
    "    plt.show()"
   ]
  },
  {
   "cell_type": "code",
   "execution_count": 9,
   "id": "7fb575ca",
   "metadata": {},
   "outputs": [
    {
     "name": "stdout",
     "output_type": "stream",
     "text": [
      "Length of Numerical columns is : 4\n",
      "Length of Categorical columns is : 7\n"
     ]
    }
   ],
   "source": [
    "A_num = A_new.select_dtypes(include = ['float64', 'int64'])\n",
    "A_cat = A_new.select_dtypes(['object'])\n",
    "lstcategoricalcolumns = list(A_cat.columns.values)\n",
    "lstnumericcolumns = list(A_num.columns.values)\n",
    "Cat_Length = len(lstcategoricalcolumns)\n",
    "Num_Length = len(lstnumericcolumns)\n",
    "print(\"Length of Numerical columns is :\", Num_Length)\n",
    "print(\"Length of Categorical columns is :\", Cat_Length)"
   ]
  },
  {
   "cell_type": "code",
   "execution_count": 10,
   "id": "9c625f73",
   "metadata": {
    "scrolled": false
   },
   "outputs": [
    {
     "name": "stdout",
     "output_type": "stream",
     "text": [
      "Description of Model ID\n",
      "----------------------------------------------------------------------------\n",
      "count    13026.000000\n",
      "mean         3.708506\n",
      "std          1.752568\n",
      "min          1.000000\n",
      "25%          3.000000\n",
      "50%          5.000000\n",
      "75%          5.000000\n",
      "max          7.000000\n",
      "Name: Model ID, dtype: float64 Distribution of Model ID\n",
      "----------------------------------------------------------------------------\n"
     ]
    },
    {
     "data": {
      "image/png": "[encoded data removed]",
      "text/plain": [
       "<Figure size 432x288 with 1 Axes>"
      ]
     },
     "metadata": {
      "needs_background": "light"
     },
     "output_type": "display_data"
    },
    {
     "name": "stdout",
     "output_type": "stream",
     "text": [
      "BoxPlot of Model ID\n",
      "----------------------------------------------------------------------------\n"
     ]
    },
    {
     "data": {
      "image/png": "[encoded data removed]",
      "text/plain": [
       "<Figure size 432x288 with 1 Axes>"
      ]
     },
     "metadata": {
      "needs_background": "light"
     },
     "output_type": "display_data"
    },
    {
     "name": "stdout",
     "output_type": "stream",
     "text": [
      "Description of Variant ID\n",
      "----------------------------------------------------------------------------\n",
      "count    13026.000000\n",
      "mean        68.787655\n",
      "std         16.238966\n",
      "min         36.000000\n",
      "25%         59.000000\n",
      "50%         73.000000\n",
      "75%         80.000000\n",
      "max        136.000000\n",
      "Name: Variant ID, dtype: float64 Distribution of Variant ID\n",
      "----------------------------------------------------------------------------\n"
     ]
    },
    {
     "data": {
      "image/png": "[encoded data removed]",
      "text/plain": [
       "<Figure size 432x288 with 1 Axes>"
      ]
     },
     "metadata": {
      "needs_background": "light"
     },
     "output_type": "display_data"
    },
    {
     "name": "stdout",
     "output_type": "stream",
     "text": [
      "BoxPlot of Variant ID\n",
      "----------------------------------------------------------------------------\n"
     ]
    },
    {
     "data": {
      "image/png": "[encoded data removed]",
      "text/plain": [
       "<Figure size 432x288 with 1 Axes>"
      ]
     },
     "metadata": {
      "needs_background": "light"
     },
     "output_type": "display_data"
    },
    {
     "name": "stdout",
     "output_type": "stream",
     "text": [
      "Description of Showroom Price\n",
      "----------------------------------------------------------------------------\n",
      "count    1.302600e+04\n",
      "mean     2.067519e+06\n",
      "std      7.372671e+05\n",
      "min      1.031800e+06\n",
      "25%      1.669800e+06\n",
      "50%      1.977800e+06\n",
      "75%      2.069800e+06\n",
      "max      4.077800e+06\n",
      "Name: Showroom Price, dtype: float64 Distribution of Showroom Price\n",
      "----------------------------------------------------------------------------\n"
     ]
    },
    {
     "data": {
      "image/png": "[encoded data removed]",
      "text/plain": [
       "<Figure size 432x288 with 1 Axes>"
      ]
     },
     "metadata": {
      "needs_background": "light"
     },
     "output_type": "display_data"
    },
    {
     "name": "stdout",
     "output_type": "stream",
     "text": [
      "BoxPlot of Showroom Price\n",
      "----------------------------------------------------------------------------\n"
     ]
    },
    {
     "data": {
      "image/png": "[encoded data removed]",
      "text/plain": [
       "<Figure size 432x288 with 1 Axes>"
      ]
     },
     "metadata": {
      "needs_background": "light"
     },
     "output_type": "display_data"
    },
    {
     "name": "stdout",
     "output_type": "stream",
     "text": [
      "Description of Accessories price\n",
      "----------------------------------------------------------------------------\n",
      "count     10498.000000\n",
      "mean       8760.733854\n",
      "std       18385.797050\n",
      "min           0.000000\n",
      "25%           0.000000\n",
      "50%           0.000000\n",
      "75%        8004.000000\n",
      "max      140892.000000\n",
      "Name: Accessories price, dtype: float64 Distribution of Accessories price\n",
      "----------------------------------------------------------------------------\n"
     ]
    },
    {
     "data": {
      "image/png": "[encoded data removed]",
      "text/plain": [
       "<Figure size 432x288 with 1 Axes>"
      ]
     },
     "metadata": {
      "needs_background": "light"
     },
     "output_type": "display_data"
    },
    {
     "name": "stdout",
     "output_type": "stream",
     "text": [
      "BoxPlot of Accessories price\n",
      "----------------------------------------------------------------------------\n"
     ]
    },
    {
     "data": {
      "image/png": "[encoded data removed]",
      "text/plain": [
       "<Figure size 432x288 with 1 Axes>"
      ]
     },
     "metadata": {
      "needs_background": "light"
     },
     "output_type": "display_data"
    }
   ],
   "source": [
    "for x in lstnumericcolumns:\n",
    "    univariateAnalysis_numeric(x,20)"
   ]
  },
  {
   "cell_type": "code",
   "execution_count": 11,
   "id": "8157a983",
   "metadata": {},
   "outputs": [],
   "source": [
    "def univariateAnalysis_category(cat_column):\n",
    "    print(\"Details of \" + cat_column)\n",
    "    print(\"----------------------------------------------------------------------------\")\n",
    "    print(A_cat[cat_column].value_counts())\n",
    "    plt.figure()\n",
    "    A_cat[cat_column].value_counts().plot.bar(title = 'Frequency Distribution of' + cat_column)\n",
    "    plt.show()\n",
    "    print(\" \")"
   ]
  },
  {
   "cell_type": "code",
   "execution_count": 12,
   "id": "d4384cbc",
   "metadata": {},
   "outputs": [
    {
     "data": {
      "text/plain": [
       "['Intro View',\n",
       " 'Audio Journey',\n",
       " 'Self Explore',\n",
       " 'Accessories',\n",
       " 'EMI',\n",
       " 'Book Now',\n",
       " 'Test Drive']"
      ]
     },
     "execution_count": 12,
     "metadata": {},
     "output_type": "execute_result"
    }
   ],
   "source": [
    "A_cat = A_new.select_dtypes(include =['object'])\n",
    "Categorical_column_list = list(A_cat.columns.values)\n",
    "Categorical_column_list"
   ]
  },
  {
   "cell_type": "code",
   "execution_count": 13,
   "id": "41dc288e",
   "metadata": {
    "scrolled": false
   },
   "outputs": [
    {
     "name": "stdout",
     "output_type": "stream",
     "text": [
      "Details of Intro View\n",
      "----------------------------------------------------------------------------\n",
      "no     10140\n",
      "yes     2886\n",
      "Name: Intro View, dtype: int64\n"
     ]
    },
    {
     "data": {
      "image/png": "[encoded data removed]",
      "text/plain": [
       "<Figure size 432x288 with 1 Axes>"
      ]
     },
     "metadata": {
      "needs_background": "light"
     },
     "output_type": "display_data"
    },
    {
     "name": "stdout",
     "output_type": "stream",
     "text": [
      " \n",
      "Details of Audio Journey\n",
      "----------------------------------------------------------------------------\n",
      "no     12239\n",
      "yes      787\n",
      "Name: Audio Journey, dtype: int64\n"
     ]
    },
    {
     "data": {
      "image/png": "[encoded data removed]",
      "text/plain": [
       "<Figure size 432x288 with 1 Axes>"
      ]
     },
     "metadata": {
      "needs_background": "light"
     },
     "output_type": "display_data"
    },
    {
     "name": "stdout",
     "output_type": "stream",
     "text": [
      " \n",
      "Details of Self Explore\n",
      "----------------------------------------------------------------------------\n",
      "no     11440\n",
      "yes     1586\n",
      "Name: Self Explore, dtype: int64\n"
     ]
    },
    {
     "data": {
      "image/png": "[encoded data removed]",
      "text/plain": [
       "<Figure size 432x288 with 1 Axes>"
      ]
     },
     "metadata": {
      "needs_background": "light"
     },
     "output_type": "display_data"
    },
    {
     "name": "stdout",
     "output_type": "stream",
     "text": [
      " \n",
      "Details of Accessories\n",
      "----------------------------------------------------------------------------\n",
      "no     7660\n",
      "yes    5366\n",
      "Name: Accessories, dtype: int64\n"
     ]
    },
    {
     "data": {
      "image/png": "[encoded data removed]",
      "text/plain": [
       "<Figure size 432x288 with 1 Axes>"
      ]
     },
     "metadata": {
      "needs_background": "light"
     },
     "output_type": "display_data"
    },
    {
     "name": "stdout",
     "output_type": "stream",
     "text": [
      " \n",
      "Details of EMI\n",
      "----------------------------------------------------------------------------\n",
      "no     12483\n",
      "yes      543\n",
      "Name: EMI, dtype: int64\n"
     ]
    },
    {
     "data": {
      "image/png": "[encoded data removed]",
      "text/plain": [
       "<Figure size 432x288 with 1 Axes>"
      ]
     },
     "metadata": {
      "needs_background": "light"
     },
     "output_type": "display_data"
    },
    {
     "name": "stdout",
     "output_type": "stream",
     "text": [
      " \n",
      "Details of Book Now\n",
      "----------------------------------------------------------------------------\n",
      "no     12975\n",
      "yes       51\n",
      "Name: Book Now, dtype: int64\n"
     ]
    },
    {
     "data": {
      "image/png": "[encoded data removed]",
      "text/plain": [
       "<Figure size 432x288 with 1 Axes>"
      ]
     },
     "metadata": {
      "needs_background": "light"
     },
     "output_type": "display_data"
    },
    {
     "name": "stdout",
     "output_type": "stream",
     "text": [
      " \n",
      "Details of Test Drive\n",
      "----------------------------------------------------------------------------\n",
      "no     13003\n",
      "yes       23\n",
      "Name: Test Drive, dtype: int64\n"
     ]
    },
    {
     "data": {
      "image/png": "[encoded data removed]",
      "text/plain": [
       "<Figure size 432x288 with 1 Axes>"
      ]
     },
     "metadata": {
      "needs_background": "light"
     },
     "output_type": "display_data"
    },
    {
     "name": "stdout",
     "output_type": "stream",
     "text": [
      " \n"
     ]
    }
   ],
   "source": [
    "for x in Categorical_column_list:\n",
    "    univariateAnalysis_category(x)"
   ]
  },
  {
   "cell_type": "code",
   "execution_count": 14,
   "id": "fb82ced0",
   "metadata": {},
   "outputs": [
    {
     "data": {
      "text/plain": [
       "<seaborn.axisgrid.PairGrid at 0x2155e143670>"
      ]
     },
     "execution_count": 14,
     "metadata": {},
     "output_type": "execute_result"
    },
    {
     "data": {
      "image/png": "[encoded data removed]",
      "text/plain": [
       "<Figure size 720x720 with 20 Axes>"
      ]
     },
     "metadata": {
      "needs_background": "light"
     },
     "output_type": "display_data"
    }
   ],
   "source": [
    "sns.pairplot(A_new[['Model ID', 'Variant ID', 'Showroom Price','Accessories price']])"
   ]
  },
  {
   "cell_type": "code",
   "execution_count": 15,
   "id": "13f50ece",
   "metadata": {},
   "outputs": [
    {
     "data": {
      "text/html": [
       "<div>\n",
       "<style scoped>\n",
       "    .dataframe tbody tr th:only-of-type {\n",
       "        vertical-align: middle;\n",
       "    }\n",
       "\n",
       "    .dataframe tbody tr th {\n",
       "        vertical-align: top;\n",
       "    }\n",
       "\n",
       "    .dataframe thead th {\n",
       "        text-align: right;\n",
       "    }\n",
       "</style>\n",
       "<table border=\"1\" class=\"dataframe\">\n",
       "  <thead>\n",
       "    <tr style=\"text-align: right;\">\n",
       "      <th></th>\n",
       "      <th>Model ID</th>\n",
       "      <th>Variant ID</th>\n",
       "      <th>Showroom Price</th>\n",
       "      <th>Accessories price</th>\n",
       "    </tr>\n",
       "  </thead>\n",
       "  <tbody>\n",
       "    <tr>\n",
       "      <th>Model ID</th>\n",
       "      <td>1.000000</td>\n",
       "      <td>0.721017</td>\n",
       "      <td>0.004566</td>\n",
       "      <td>0.059740</td>\n",
       "    </tr>\n",
       "    <tr>\n",
       "      <th>Variant ID</th>\n",
       "      <td>0.721017</td>\n",
       "      <td>1.000000</td>\n",
       "      <td>0.311413</td>\n",
       "      <td>0.063303</td>\n",
       "    </tr>\n",
       "    <tr>\n",
       "      <th>Showroom Price</th>\n",
       "      <td>0.004566</td>\n",
       "      <td>0.311413</td>\n",
       "      <td>1.000000</td>\n",
       "      <td>0.073453</td>\n",
       "    </tr>\n",
       "    <tr>\n",
       "      <th>Accessories price</th>\n",
       "      <td>0.059740</td>\n",
       "      <td>0.063303</td>\n",
       "      <td>0.073453</td>\n",
       "      <td>1.000000</td>\n",
       "    </tr>\n",
       "  </tbody>\n",
       "</table>\n",
       "</div>"
      ],
      "text/plain": [
       "                   Model ID  Variant ID  Showroom Price  Accessories price\n",
       "Model ID           1.000000    0.721017        0.004566           0.059740\n",
       "Variant ID         0.721017    1.000000        0.311413           0.063303\n",
       "Showroom Price     0.004566    0.311413        1.000000           0.073453\n",
       "Accessories price  0.059740    0.063303        0.073453           1.000000"
      ]
     },
     "execution_count": 15,
     "metadata": {},
     "output_type": "execute_result"
    }
   ],
   "source": [
    "corr = A_new.corr()\n",
    "corr"
   ]
  },
  {
   "cell_type": "code",
   "execution_count": 16,
   "id": "6d51a269",
   "metadata": {},
   "outputs": [
    {
     "data": {
      "text/plain": [
       "Intro View              0\n",
       "Audio Journey           0\n",
       "Self Explore            0\n",
       "Accessories             0\n",
       "EMI                     0\n",
       "Book Now                0\n",
       "Test Drive              0\n",
       "Model ID                0\n",
       "Variant ID              0\n",
       "Showroom Price          0\n",
       "Accessories price    2528\n",
       "dtype: int64"
      ]
     },
     "execution_count": 16,
     "metadata": {},
     "output_type": "execute_result"
    }
   ],
   "source": [
    "A_new.isnull().sum()"
   ]
  },
  {
   "cell_type": "code",
   "execution_count": 17,
   "id": "c146192e",
   "metadata": {},
   "outputs": [],
   "source": [
    "A_new['Accessories price'].fillna(0, inplace = True)"
   ]
  },
  {
   "cell_type": "code",
   "execution_count": 18,
   "id": "f725c0f0",
   "metadata": {},
   "outputs": [
    {
     "data": {
      "image/png": "[encoded data removed]",
      "text/plain": [
       "<Figure size 1440x1440 with 4 Axes>"
      ]
     },
     "metadata": {
      "needs_background": "light"
     },
     "output_type": "display_data"
    }
   ],
   "source": [
    "columns = ('Model ID', 'Variant ID', 'Showroom Price', 'Accessories price')\n",
    "plt.figure(figsize=[20,20])\n",
    "for i in range(len(columns)):\n",
    "    plt.subplot(9,2,i+1)\n",
    "    sns.boxplot(A_new[columns[i]])"
   ]
  },
  {
   "cell_type": "code",
   "execution_count": 19,
   "id": "154f53f5",
   "metadata": {},
   "outputs": [
    {
     "data": {
      "text/plain": [
       "array([[<AxesSubplot:title={'center':'Model ID'}>,\n",
       "        <AxesSubplot:title={'center':'Variant ID'}>],\n",
       "       [<AxesSubplot:title={'center':'Showroom Price'}>,\n",
       "        <AxesSubplot:title={'center':'Accessories price'}>]], dtype=object)"
      ]
     },
     "execution_count": 19,
     "metadata": {},
     "output_type": "execute_result"
    },
    {
     "data": {
      "image/png": "[encoded data removed]",
      "text/plain": [
       "<Figure size 432x288 with 4 Axes>"
      ]
     },
     "metadata": {
      "needs_background": "light"
     },
     "output_type": "display_data"
    }
   ],
   "source": [
    "A_new.hist()"
   ]
  },
  {
   "cell_type": "code",
   "execution_count": 20,
   "id": "2e43842f",
   "metadata": {},
   "outputs": [],
   "source": [
    "A_new['Intro View']=np.where(A_new['Intro View']=='yes','1',A_new['Intro View'])\n",
    "A_new['Intro View']=np.where(A_new['Intro View']=='no','0',A_new['Intro View'])"
   ]
  },
  {
   "cell_type": "code",
   "execution_count": 21,
   "id": "91435a2e",
   "metadata": {},
   "outputs": [],
   "source": [
    "A_new['Audio Journey']=np.where(A_new['Audio Journey']=='yes','1',A_new['Audio Journey'])\n",
    "A_new['Audio Journey']=np.where(A_new['Audio Journey']=='no','0',A_new['Audio Journey'])"
   ]
  },
  {
   "cell_type": "code",
   "execution_count": 22,
   "id": "d7339319",
   "metadata": {},
   "outputs": [],
   "source": [
    "A_new['Self Explore']=np.where(A_new['Self Explore']=='yes','1',A_new['Self Explore'])\n",
    "A_new['Self Explore']=np.where(A_new['Self Explore']=='no','0',A_new['Self Explore'])"
   ]
  },
  {
   "cell_type": "code",
   "execution_count": 23,
   "id": "9d1674b4",
   "metadata": {},
   "outputs": [],
   "source": [
    "A_new['Accessories']=np.where(A_new['Accessories']=='yes','1',A_new['Accessories'])\n",
    "A_new['Accessories']=np.where(A_new['Accessories']=='no','0',A_new['Accessories'])"
   ]
  },
  {
   "cell_type": "code",
   "execution_count": 24,
   "id": "33d3dad3",
   "metadata": {},
   "outputs": [],
   "source": [
    "A_new['EMI']=np.where(A_new['EMI']=='yes','1',A_new['EMI'])\n",
    "A_new['EMI']=np.where(A_new['EMI']=='no','0',A_new['EMI'])"
   ]
  },
  {
   "cell_type": "code",
   "execution_count": 25,
   "id": "68273eb7",
   "metadata": {},
   "outputs": [],
   "source": [
    "A_new['Test Drive']=np.where(A_new['Test Drive']=='yes','1',A_new['Test Drive'])\n",
    "A_new['Test Drive']=np.where(A_new['Test Drive']=='no','0',A_new['Test Drive'])"
   ]
  },
  {
   "cell_type": "code",
   "execution_count": 26,
   "id": "ad7bdda6",
   "metadata": {},
   "outputs": [],
   "source": [
    "A_new['Book Now']=np.where(A_new['Book Now']=='yes','1',A_new['Book Now'])\n",
    "A_new['Book Now']=np.where(A_new['Book Now']=='no','0',A_new['Book Now'])"
   ]
  },
  {
   "cell_type": "code",
   "execution_count": 27,
   "id": "756bc1f9",
   "metadata": {},
   "outputs": [],
   "source": [
    "A_new['Intro View'] = A_new['Intro View'].astype('int64')"
   ]
  },
  {
   "cell_type": "code",
   "execution_count": 28,
   "id": "99f06746",
   "metadata": {},
   "outputs": [],
   "source": [
    "A_new['Audio Journey'] = A_new['Audio Journey'].astype('int64')"
   ]
  },
  {
   "cell_type": "code",
   "execution_count": 29,
   "id": "bbf6f9f8",
   "metadata": {},
   "outputs": [],
   "source": [
    "A_new['Self Explore'] = A_new['Self Explore'].astype('int64')"
   ]
  },
  {
   "cell_type": "code",
   "execution_count": 30,
   "id": "5a8e6c13",
   "metadata": {},
   "outputs": [],
   "source": [
    "A_new['Accessories'] = A_new['Accessories'].astype('int64')"
   ]
  },
  {
   "cell_type": "code",
   "execution_count": 31,
   "id": "c7f981de",
   "metadata": {},
   "outputs": [],
   "source": [
    "A_new['EMI'] = A_new['EMI'].astype('int64')"
   ]
  },
  {
   "cell_type": "code",
   "execution_count": 32,
   "id": "1799f935",
   "metadata": {},
   "outputs": [],
   "source": [
    "A_new['Test Drive'] = A_new['Test Drive'].astype('int64')"
   ]
  },
  {
   "cell_type": "code",
   "execution_count": 33,
   "id": "85344d0b",
   "metadata": {},
   "outputs": [],
   "source": [
    "A_new['Book Now'] = A_new['Book Now'].astype('int64')"
   ]
  },
  {
   "cell_type": "code",
   "execution_count": 34,
   "id": "6edd2495",
   "metadata": {},
   "outputs": [
    {
     "data": {
      "text/plain": [
       "Intro View             int64\n",
       "Audio Journey          int64\n",
       "Self Explore           int64\n",
       "Accessories            int64\n",
       "EMI                    int64\n",
       "Book Now               int64\n",
       "Test Drive             int64\n",
       "Model ID               int64\n",
       "Variant ID             int64\n",
       "Showroom Price         int64\n",
       "Accessories price    float64\n",
       "dtype: object"
      ]
     },
     "execution_count": 34,
     "metadata": {},
     "output_type": "execute_result"
    }
   ],
   "source": [
    "A_new.dtypes"
   ]
  },
  {
   "cell_type": "code",
   "execution_count": 35,
   "id": "36d7b290",
   "metadata": {},
   "outputs": [
    {
     "data": {
      "text/html": [
       "<div>\n",
       "<style scoped>\n",
       "    .dataframe tbody tr th:only-of-type {\n",
       "        vertical-align: middle;\n",
       "    }\n",
       "\n",
       "    .dataframe tbody tr th {\n",
       "        vertical-align: top;\n",
       "    }\n",
       "\n",
       "    .dataframe thead th {\n",
       "        text-align: right;\n",
       "    }\n",
       "</style>\n",
       "<table border=\"1\" class=\"dataframe\">\n",
       "  <thead>\n",
       "    <tr style=\"text-align: right;\">\n",
       "      <th></th>\n",
       "      <th>Intro View</th>\n",
       "      <th>Audio Journey</th>\n",
       "      <th>Self Explore</th>\n",
       "      <th>Accessories</th>\n",
       "      <th>EMI</th>\n",
       "      <th>Book Now</th>\n",
       "      <th>Test Drive</th>\n",
       "      <th>Model ID</th>\n",
       "      <th>Variant ID</th>\n",
       "      <th>Showroom Price</th>\n",
       "      <th>Accessories price</th>\n",
       "    </tr>\n",
       "  </thead>\n",
       "  <tbody>\n",
       "    <tr>\n",
       "      <th>Intro View</th>\n",
       "      <td>1.000000</td>\n",
       "      <td>-0.011921</td>\n",
       "      <td>-0.091233</td>\n",
       "      <td>-0.344737</td>\n",
       "      <td>-0.040977</td>\n",
       "      <td>-0.015687</td>\n",
       "      <td>-0.004825</td>\n",
       "      <td>-0.144377</td>\n",
       "      <td>-0.098587</td>\n",
       "      <td>0.174536</td>\n",
       "      <td>-0.174256</td>\n",
       "    </tr>\n",
       "    <tr>\n",
       "      <th>Audio Journey</th>\n",
       "      <td>-0.011921</td>\n",
       "      <td>1.000000</td>\n",
       "      <td>0.216950</td>\n",
       "      <td>-0.050540</td>\n",
       "      <td>0.032553</td>\n",
       "      <td>0.009900</td>\n",
       "      <td>0.020034</td>\n",
       "      <td>0.000994</td>\n",
       "      <td>0.008931</td>\n",
       "      <td>0.058361</td>\n",
       "      <td>-0.026339</td>\n",
       "    </tr>\n",
       "    <tr>\n",
       "      <th>Self Explore</th>\n",
       "      <td>-0.091233</td>\n",
       "      <td>0.216950</td>\n",
       "      <td>1.000000</td>\n",
       "      <td>-0.026876</td>\n",
       "      <td>0.045675</td>\n",
       "      <td>-0.000788</td>\n",
       "      <td>0.012300</td>\n",
       "      <td>0.024154</td>\n",
       "      <td>0.027307</td>\n",
       "      <td>0.057064</td>\n",
       "      <td>-0.008187</td>\n",
       "    </tr>\n",
       "    <tr>\n",
       "      <th>Accessories</th>\n",
       "      <td>-0.344737</td>\n",
       "      <td>-0.050540</td>\n",
       "      <td>-0.026876</td>\n",
       "      <td>1.000000</td>\n",
       "      <td>0.079845</td>\n",
       "      <td>0.012465</td>\n",
       "      <td>0.013097</td>\n",
       "      <td>0.109932</td>\n",
       "      <td>0.080536</td>\n",
       "      <td>-0.073033</td>\n",
       "      <td>0.472819</td>\n",
       "    </tr>\n",
       "    <tr>\n",
       "      <th>EMI</th>\n",
       "      <td>-0.040977</td>\n",
       "      <td>0.032553</td>\n",
       "      <td>0.045675</td>\n",
       "      <td>0.079845</td>\n",
       "      <td>1.000000</td>\n",
       "      <td>0.048429</td>\n",
       "      <td>0.036973</td>\n",
       "      <td>0.014746</td>\n",
       "      <td>0.022738</td>\n",
       "      <td>0.009540</td>\n",
       "      <td>0.084565</td>\n",
       "    </tr>\n",
       "    <tr>\n",
       "      <th>Book Now</th>\n",
       "      <td>-0.015687</td>\n",
       "      <td>0.009900</td>\n",
       "      <td>-0.000788</td>\n",
       "      <td>0.012465</td>\n",
       "      <td>0.048429</td>\n",
       "      <td>1.000000</td>\n",
       "      <td>0.055925</td>\n",
       "      <td>0.016040</td>\n",
       "      <td>0.008087</td>\n",
       "      <td>-0.030492</td>\n",
       "      <td>0.028948</td>\n",
       "    </tr>\n",
       "    <tr>\n",
       "      <th>Test Drive</th>\n",
       "      <td>-0.004825</td>\n",
       "      <td>0.020034</td>\n",
       "      <td>0.012300</td>\n",
       "      <td>0.013097</td>\n",
       "      <td>0.036973</td>\n",
       "      <td>0.055925</td>\n",
       "      <td>1.000000</td>\n",
       "      <td>0.004909</td>\n",
       "      <td>-0.004405</td>\n",
       "      <td>0.006496</td>\n",
       "      <td>0.008321</td>\n",
       "    </tr>\n",
       "    <tr>\n",
       "      <th>Model ID</th>\n",
       "      <td>-0.144377</td>\n",
       "      <td>0.000994</td>\n",
       "      <td>0.024154</td>\n",
       "      <td>0.109932</td>\n",
       "      <td>0.014746</td>\n",
       "      <td>0.016040</td>\n",
       "      <td>0.004909</td>\n",
       "      <td>1.000000</td>\n",
       "      <td>0.721017</td>\n",
       "      <td>0.004566</td>\n",
       "      <td>0.072858</td>\n",
       "    </tr>\n",
       "    <tr>\n",
       "      <th>Variant ID</th>\n",
       "      <td>-0.098587</td>\n",
       "      <td>0.008931</td>\n",
       "      <td>0.027307</td>\n",
       "      <td>0.080536</td>\n",
       "      <td>0.022738</td>\n",
       "      <td>0.008087</td>\n",
       "      <td>-0.004405</td>\n",
       "      <td>0.721017</td>\n",
       "      <td>1.000000</td>\n",
       "      <td>0.311413</td>\n",
       "      <td>0.073816</td>\n",
       "    </tr>\n",
       "    <tr>\n",
       "      <th>Showroom Price</th>\n",
       "      <td>0.174536</td>\n",
       "      <td>0.058361</td>\n",
       "      <td>0.057064</td>\n",
       "      <td>-0.073033</td>\n",
       "      <td>0.009540</td>\n",
       "      <td>-0.030492</td>\n",
       "      <td>0.006496</td>\n",
       "      <td>0.004566</td>\n",
       "      <td>0.311413</td>\n",
       "      <td>1.000000</td>\n",
       "      <td>0.027100</td>\n",
       "    </tr>\n",
       "    <tr>\n",
       "      <th>Accessories price</th>\n",
       "      <td>-0.174256</td>\n",
       "      <td>-0.026339</td>\n",
       "      <td>-0.008187</td>\n",
       "      <td>0.472819</td>\n",
       "      <td>0.084565</td>\n",
       "      <td>0.028948</td>\n",
       "      <td>0.008321</td>\n",
       "      <td>0.072858</td>\n",
       "      <td>0.073816</td>\n",
       "      <td>0.027100</td>\n",
       "      <td>1.000000</td>\n",
       "    </tr>\n",
       "  </tbody>\n",
       "</table>\n",
       "</div>"
      ],
      "text/plain": [
       "                   Intro View  Audio Journey  Self Explore  Accessories  \\\n",
       "Intro View           1.000000      -0.011921     -0.091233    -0.344737   \n",
       "Audio Journey       -0.011921       1.000000      0.216950    -0.050540   \n",
       "Self Explore        -0.091233       0.216950      1.000000    -0.026876   \n",
       "Accessories         -0.344737      -0.050540     -0.026876     1.000000   \n",
       "EMI                 -0.040977       0.032553      0.045675     0.079845   \n",
       "Book Now            -0.015687       0.009900     -0.000788     0.012465   \n",
       "Test Drive          -0.004825       0.020034      0.012300     0.013097   \n",
       "Model ID            -0.144377       0.000994      0.024154     0.109932   \n",
       "Variant ID          -0.098587       0.008931      0.027307     0.080536   \n",
       "Showroom Price       0.174536       0.058361      0.057064    -0.073033   \n",
       "Accessories price   -0.174256      -0.026339     -0.008187     0.472819   \n",
       "\n",
       "                        EMI  Book Now  Test Drive  Model ID  Variant ID  \\\n",
       "Intro View        -0.040977 -0.015687   -0.004825 -0.144377   -0.098587   \n",
       "Audio Journey      0.032553  0.009900    0.020034  0.000994    0.008931   \n",
       "Self Explore       0.045675 -0.000788    0.012300  0.024154    0.027307   \n",
       "Accessories        0.079845  0.012465    0.013097  0.109932    0.080536   \n",
       "EMI                1.000000  0.048429    0.036973  0.014746    0.022738   \n",
       "Book Now           0.048429  1.000000    0.055925  0.016040    0.008087   \n",
       "Test Drive         0.036973  0.055925    1.000000  0.004909   -0.004405   \n",
       "Model ID           0.014746  0.016040    0.004909  1.000000    0.721017   \n",
       "Variant ID         0.022738  0.008087   -0.004405  0.721017    1.000000   \n",
       "Showroom Price     0.009540 -0.030492    0.006496  0.004566    0.311413   \n",
       "Accessories price  0.084565  0.028948    0.008321  0.072858    0.073816   \n",
       "\n",
       "                   Showroom Price  Accessories price  \n",
       "Intro View               0.174536          -0.174256  \n",
       "Audio Journey            0.058361          -0.026339  \n",
       "Self Explore             0.057064          -0.008187  \n",
       "Accessories             -0.073033           0.472819  \n",
       "EMI                      0.009540           0.084565  \n",
       "Book Now                -0.030492           0.028948  \n",
       "Test Drive               0.006496           0.008321  \n",
       "Model ID                 0.004566           0.072858  \n",
       "Variant ID               0.311413           0.073816  \n",
       "Showroom Price           1.000000           0.027100  \n",
       "Accessories price        0.027100           1.000000  "
      ]
     },
     "execution_count": 35,
     "metadata": {},
     "output_type": "execute_result"
    }
   ],
   "source": [
    "A_new.corr()"
   ]
  },
  {
   "cell_type": "code",
   "execution_count": null,
   "id": "fac22a41",
   "metadata": {},
   "outputs": [],
   "source": []
  },
  {
   "cell_type": "code",
   "execution_count": 36,
   "id": "c48a3fed",
   "metadata": {},
   "outputs": [
    {
     "data": {
      "text/html": [
       "<div>\n",
       "<style scoped>\n",
       "    .dataframe tbody tr th:only-of-type {\n",
       "        vertical-align: middle;\n",
       "    }\n",
       "\n",
       "    .dataframe tbody tr th {\n",
       "        vertical-align: top;\n",
       "    }\n",
       "\n",
       "    .dataframe thead th {\n",
       "        text-align: right;\n",
       "    }\n",
       "</style>\n",
       "<table border=\"1\" class=\"dataframe\">\n",
       "  <thead>\n",
       "    <tr style=\"text-align: right;\">\n",
       "      <th></th>\n",
       "      <th>Intro View</th>\n",
       "      <th>Audio Journey</th>\n",
       "      <th>Self Explore</th>\n",
       "      <th>Accessories</th>\n",
       "      <th>EMI</th>\n",
       "      <th>Book Now</th>\n",
       "      <th>Test Drive</th>\n",
       "      <th>Model ID</th>\n",
       "      <th>Variant ID</th>\n",
       "      <th>Showroom Price</th>\n",
       "      <th>Accessories price</th>\n",
       "    </tr>\n",
       "  </thead>\n",
       "  <tbody>\n",
       "    <tr>\n",
       "      <th>0</th>\n",
       "      <td>1</td>\n",
       "      <td>0</td>\n",
       "      <td>0</td>\n",
       "      <td>1</td>\n",
       "      <td>0</td>\n",
       "      <td>0</td>\n",
       "      <td>0</td>\n",
       "      <td>3</td>\n",
       "      <td>62</td>\n",
       "      <td>2049800</td>\n",
       "      <td>68629.0</td>\n",
       "    </tr>\n",
       "    <tr>\n",
       "      <th>1</th>\n",
       "      <td>0</td>\n",
       "      <td>0</td>\n",
       "      <td>0</td>\n",
       "      <td>0</td>\n",
       "      <td>0</td>\n",
       "      <td>0</td>\n",
       "      <td>0</td>\n",
       "      <td>3</td>\n",
       "      <td>62</td>\n",
       "      <td>2069800</td>\n",
       "      <td>0.0</td>\n",
       "    </tr>\n",
       "    <tr>\n",
       "      <th>2</th>\n",
       "      <td>0</td>\n",
       "      <td>0</td>\n",
       "      <td>0</td>\n",
       "      <td>0</td>\n",
       "      <td>0</td>\n",
       "      <td>0</td>\n",
       "      <td>0</td>\n",
       "      <td>3</td>\n",
       "      <td>62</td>\n",
       "      <td>2069800</td>\n",
       "      <td>0.0</td>\n",
       "    </tr>\n",
       "    <tr>\n",
       "      <th>3</th>\n",
       "      <td>0</td>\n",
       "      <td>0</td>\n",
       "      <td>0</td>\n",
       "      <td>1</td>\n",
       "      <td>0</td>\n",
       "      <td>0</td>\n",
       "      <td>0</td>\n",
       "      <td>5</td>\n",
       "      <td>85</td>\n",
       "      <td>1455800</td>\n",
       "      <td>21697.0</td>\n",
       "    </tr>\n",
       "    <tr>\n",
       "      <th>4</th>\n",
       "      <td>0</td>\n",
       "      <td>0</td>\n",
       "      <td>0</td>\n",
       "      <td>0</td>\n",
       "      <td>0</td>\n",
       "      <td>0</td>\n",
       "      <td>0</td>\n",
       "      <td>4</td>\n",
       "      <td>93</td>\n",
       "      <td>4077800</td>\n",
       "      <td>0.0</td>\n",
       "    </tr>\n",
       "    <tr>\n",
       "      <th>...</th>\n",
       "      <td>...</td>\n",
       "      <td>...</td>\n",
       "      <td>...</td>\n",
       "      <td>...</td>\n",
       "      <td>...</td>\n",
       "      <td>...</td>\n",
       "      <td>...</td>\n",
       "      <td>...</td>\n",
       "      <td>...</td>\n",
       "      <td>...</td>\n",
       "      <td>...</td>\n",
       "    </tr>\n",
       "    <tr>\n",
       "      <th>13021</th>\n",
       "      <td>0</td>\n",
       "      <td>0</td>\n",
       "      <td>0</td>\n",
       "      <td>0</td>\n",
       "      <td>0</td>\n",
       "      <td>0</td>\n",
       "      <td>0</td>\n",
       "      <td>6</td>\n",
       "      <td>81</td>\n",
       "      <td>2258000</td>\n",
       "      <td>0.0</td>\n",
       "    </tr>\n",
       "    <tr>\n",
       "      <th>13022</th>\n",
       "      <td>0</td>\n",
       "      <td>0</td>\n",
       "      <td>0</td>\n",
       "      <td>0</td>\n",
       "      <td>0</td>\n",
       "      <td>0</td>\n",
       "      <td>0</td>\n",
       "      <td>5</td>\n",
       "      <td>74</td>\n",
       "      <td>1669800</td>\n",
       "      <td>0.0</td>\n",
       "    </tr>\n",
       "    <tr>\n",
       "      <th>13023</th>\n",
       "      <td>0</td>\n",
       "      <td>0</td>\n",
       "      <td>0</td>\n",
       "      <td>0</td>\n",
       "      <td>0</td>\n",
       "      <td>0</td>\n",
       "      <td>0</td>\n",
       "      <td>1</td>\n",
       "      <td>46</td>\n",
       "      <td>1977800</td>\n",
       "      <td>0.0</td>\n",
       "    </tr>\n",
       "    <tr>\n",
       "      <th>13024</th>\n",
       "      <td>0</td>\n",
       "      <td>0</td>\n",
       "      <td>0</td>\n",
       "      <td>1</td>\n",
       "      <td>0</td>\n",
       "      <td>0</td>\n",
       "      <td>0</td>\n",
       "      <td>5</td>\n",
       "      <td>74</td>\n",
       "      <td>1669800</td>\n",
       "      <td>16963.0</td>\n",
       "    </tr>\n",
       "    <tr>\n",
       "      <th>13025</th>\n",
       "      <td>0</td>\n",
       "      <td>0</td>\n",
       "      <td>0</td>\n",
       "      <td>1</td>\n",
       "      <td>1</td>\n",
       "      <td>0</td>\n",
       "      <td>0</td>\n",
       "      <td>4</td>\n",
       "      <td>93</td>\n",
       "      <td>4077800</td>\n",
       "      <td>73033.0</td>\n",
       "    </tr>\n",
       "  </tbody>\n",
       "</table>\n",
       "<p>13026 rows × 11 columns</p>\n",
       "</div>"
      ],
      "text/plain": [
       "       Intro View  Audio Journey  Self Explore  Accessories  EMI  Book Now  \\\n",
       "0               1              0             0            1    0         0   \n",
       "1               0              0             0            0    0         0   \n",
       "2               0              0             0            0    0         0   \n",
       "3               0              0             0            1    0         0   \n",
       "4               0              0             0            0    0         0   \n",
       "...           ...            ...           ...          ...  ...       ...   \n",
       "13021           0              0             0            0    0         0   \n",
       "13022           0              0             0            0    0         0   \n",
       "13023           0              0             0            0    0         0   \n",
       "13024           0              0             0            1    0         0   \n",
       "13025           0              0             0            1    1         0   \n",
       "\n",
       "       Test Drive  Model ID  Variant ID  Showroom Price  Accessories price  \n",
       "0               0         3          62         2049800            68629.0  \n",
       "1               0         3          62         2069800                0.0  \n",
       "2               0         3          62         2069800                0.0  \n",
       "3               0         5          85         1455800            21697.0  \n",
       "4               0         4          93         4077800                0.0  \n",
       "...           ...       ...         ...             ...                ...  \n",
       "13021           0         6          81         2258000                0.0  \n",
       "13022           0         5          74         1669800                0.0  \n",
       "13023           0         1          46         1977800                0.0  \n",
       "13024           0         5          74         1669800            16963.0  \n",
       "13025           0         4          93         4077800            73033.0  \n",
       "\n",
       "[13026 rows x 11 columns]"
      ]
     },
     "execution_count": 36,
     "metadata": {},
     "output_type": "execute_result"
    }
   ],
   "source": [
    "A_new"
   ]
  },
  {
   "cell_type": "code",
   "execution_count": 37,
   "id": "9c6a04a0",
   "metadata": {},
   "outputs": [
    {
     "data": {
      "text/plain": [
       "array([3, 5, 4, 6, 1, 7], dtype=int64)"
      ]
     },
     "execution_count": 37,
     "metadata": {},
     "output_type": "execute_result"
    }
   ],
   "source": [
    "A_new['Model ID'].unique()"
   ]
  },
  {
   "cell_type": "code",
   "execution_count": 38,
   "id": "517dc5f5",
   "metadata": {},
   "outputs": [
    {
     "data": {
      "text/plain": [
       "array([ 62,  85,  93,  80,  88,  67,  75,  65,  71,  86,  70,  44,  68,\n",
       "        46,  47,  81,  73,  74,  59,  45,  50,  63,  83,  69,  82,  77,\n",
       "        53,  57,  64,  56,  92,  87,  40,  94,  58,  36,  72,  60,  41,\n",
       "        78,  89,  84,  76,  52,  90,  38,  55, 134, 133, 108, 136, 135],\n",
       "      dtype=int64)"
      ]
     },
     "execution_count": 38,
     "metadata": {},
     "output_type": "execute_result"
    }
   ],
   "source": [
    "A_new['Variant ID'].unique()"
   ]
  },
  {
   "cell_type": "code",
   "execution_count": 39,
   "id": "a013462e",
   "metadata": {},
   "outputs": [
    {
     "data": {
      "text/plain": [
       "array([2049800, 2069800, 1455800, 4077800, 2649800, 1348000, 1822800,\n",
       "       1547800, 1468000, 2659800, 1659800, 2035800, 1038000, 1977800,\n",
       "       1879800, 2258000, 1568000, 1997800, 1669800, 2034800, 1804800,\n",
       "       1949800, 1747800, 1199800, 1205800, 1031800, 1749800, 2099800,\n",
       "       1643800, 1667800, 1642800, 1972800, 3844800, 1894800, 1991800,\n",
       "       1944800, 1442800, 1488000, 2055800, 1992800, 1889800, 1971800,\n",
       "       1719800, 1368000, 3199800, 2119800, 1361800, 1658000, 1954800,\n",
       "       3687800, 1899800, 1969800, 1596800, 2060800, 2040800, 1914800,\n",
       "       2192800, 1478000, 1578000], dtype=int64)"
      ]
     },
     "execution_count": 39,
     "metadata": {},
     "output_type": "execute_result"
    }
   ],
   "source": [
    "A_new['Showroom Price'].unique()"
   ]
  },
  {
   "cell_type": "code",
   "execution_count": 40,
   "id": "71bba494",
   "metadata": {},
   "outputs": [
    {
     "data": {
      "text/plain": [
       "array([68629.,     0., 21697., ..., 62590., 44749., 16963.])"
      ]
     },
     "execution_count": 40,
     "metadata": {},
     "output_type": "execute_result"
    }
   ],
   "source": [
    "A_new['Accessories price'].unique()"
   ]
  },
  {
   "cell_type": "code",
   "execution_count": 41,
   "id": "9a260327",
   "metadata": {},
   "outputs": [],
   "source": [
    "X = A_new.drop('Book Now',axis = 1)\n",
    "y = A_new[['Book Now']]\n",
    "test_size = 0.30   #taking 70:30 training and test set\n",
    "seed = 7   #Random numbmer seeding for reapeatability of the code\n",
    "X_train, X_test, y_train, y_test = train_test_split(X, y, test_size=test_size, random_state=seed)"
   ]
  },
  {
   "cell_type": "code",
   "execution_count": 42,
   "id": "92fc4b5e",
   "metadata": {},
   "outputs": [
    {
     "name": "stdout",
     "output_type": "stream",
     "text": [
      "X_train (9118, 10)\n",
      "X_test (3908, 10)\n",
      "y_train (9118, 1)\n",
      "y_test (3908, 1)\n"
     ]
    }
   ],
   "source": [
    "print('X_train',X_train.shape)\n",
    "print('X_test',X_test.shape)\n",
    "print('y_train',y_train.shape)\n",
    "print('y_test',y_test.shape)"
   ]
  },
  {
   "cell_type": "code",
   "execution_count": 43,
   "id": "4fc260b2",
   "metadata": {},
   "outputs": [
    {
     "data": {
      "text/html": [
       "<div>\n",
       "<style scoped>\n",
       "    .dataframe tbody tr th:only-of-type {\n",
       "        vertical-align: middle;\n",
       "    }\n",
       "\n",
       "    .dataframe tbody tr th {\n",
       "        vertical-align: top;\n",
       "    }\n",
       "\n",
       "    .dataframe thead th {\n",
       "        text-align: right;\n",
       "    }\n",
       "</style>\n",
       "<table border=\"1\" class=\"dataframe\">\n",
       "  <thead>\n",
       "    <tr style=\"text-align: right;\">\n",
       "      <th></th>\n",
       "      <th>Intro View</th>\n",
       "      <th>Audio Journey</th>\n",
       "      <th>Self Explore</th>\n",
       "      <th>Accessories</th>\n",
       "      <th>EMI</th>\n",
       "      <th>Test Drive</th>\n",
       "      <th>Model ID</th>\n",
       "      <th>Variant ID</th>\n",
       "      <th>Showroom Price</th>\n",
       "      <th>Accessories price</th>\n",
       "    </tr>\n",
       "  </thead>\n",
       "  <tbody>\n",
       "    <tr>\n",
       "      <th>3202</th>\n",
       "      <td>0</td>\n",
       "      <td>0</td>\n",
       "      <td>0</td>\n",
       "      <td>0</td>\n",
       "      <td>1</td>\n",
       "      <td>0</td>\n",
       "      <td>5</td>\n",
       "      <td>71</td>\n",
       "      <td>1468000</td>\n",
       "      <td>0.0</td>\n",
       "    </tr>\n",
       "    <tr>\n",
       "      <th>5667</th>\n",
       "      <td>0</td>\n",
       "      <td>0</td>\n",
       "      <td>0</td>\n",
       "      <td>0</td>\n",
       "      <td>0</td>\n",
       "      <td>0</td>\n",
       "      <td>1</td>\n",
       "      <td>46</td>\n",
       "      <td>1977800</td>\n",
       "      <td>0.0</td>\n",
       "    </tr>\n",
       "    <tr>\n",
       "      <th>121</th>\n",
       "      <td>0</td>\n",
       "      <td>0</td>\n",
       "      <td>0</td>\n",
       "      <td>0</td>\n",
       "      <td>0</td>\n",
       "      <td>0</td>\n",
       "      <td>5</td>\n",
       "      <td>74</td>\n",
       "      <td>1669800</td>\n",
       "      <td>0.0</td>\n",
       "    </tr>\n",
       "    <tr>\n",
       "      <th>1363</th>\n",
       "      <td>0</td>\n",
       "      <td>0</td>\n",
       "      <td>0</td>\n",
       "      <td>1</td>\n",
       "      <td>0</td>\n",
       "      <td>0</td>\n",
       "      <td>5</td>\n",
       "      <td>73</td>\n",
       "      <td>1568000</td>\n",
       "      <td>848.0</td>\n",
       "    </tr>\n",
       "    <tr>\n",
       "      <th>2359</th>\n",
       "      <td>0</td>\n",
       "      <td>0</td>\n",
       "      <td>0</td>\n",
       "      <td>0</td>\n",
       "      <td>0</td>\n",
       "      <td>0</td>\n",
       "      <td>6</td>\n",
       "      <td>86</td>\n",
       "      <td>2659800</td>\n",
       "      <td>0.0</td>\n",
       "    </tr>\n",
       "  </tbody>\n",
       "</table>\n",
       "</div>"
      ],
      "text/plain": [
       "      Intro View  Audio Journey  Self Explore  Accessories  EMI  Test Drive  \\\n",
       "3202           0              0             0            0    1           0   \n",
       "5667           0              0             0            0    0           0   \n",
       "121            0              0             0            0    0           0   \n",
       "1363           0              0             0            1    0           0   \n",
       "2359           0              0             0            0    0           0   \n",
       "\n",
       "      Model ID  Variant ID  Showroom Price  Accessories price  \n",
       "3202         5          71         1468000                0.0  \n",
       "5667         1          46         1977800                0.0  \n",
       "121          5          74         1669800                0.0  \n",
       "1363         5          73         1568000              848.0  \n",
       "2359         6          86         2659800                0.0  "
      ]
     },
     "execution_count": 43,
     "metadata": {},
     "output_type": "execute_result"
    }
   ],
   "source": [
    "X_train.head()"
   ]
  },
  {
   "cell_type": "code",
   "execution_count": 44,
   "id": "494c8747",
   "metadata": {},
   "outputs": [
    {
     "data": {
      "text/html": [
       "<div>\n",
       "<style scoped>\n",
       "    .dataframe tbody tr th:only-of-type {\n",
       "        vertical-align: middle;\n",
       "    }\n",
       "\n",
       "    .dataframe tbody tr th {\n",
       "        vertical-align: top;\n",
       "    }\n",
       "\n",
       "    .dataframe thead th {\n",
       "        text-align: right;\n",
       "    }\n",
       "</style>\n",
       "<table border=\"1\" class=\"dataframe\">\n",
       "  <thead>\n",
       "    <tr style=\"text-align: right;\">\n",
       "      <th></th>\n",
       "      <th>Intro View</th>\n",
       "      <th>Audio Journey</th>\n",
       "      <th>Self Explore</th>\n",
       "      <th>Accessories</th>\n",
       "      <th>EMI</th>\n",
       "      <th>Test Drive</th>\n",
       "      <th>Model ID</th>\n",
       "      <th>Variant ID</th>\n",
       "      <th>Showroom Price</th>\n",
       "      <th>Accessories price</th>\n",
       "    </tr>\n",
       "  </thead>\n",
       "  <tbody>\n",
       "    <tr>\n",
       "      <th>8001</th>\n",
       "      <td>0</td>\n",
       "      <td>0</td>\n",
       "      <td>0</td>\n",
       "      <td>1</td>\n",
       "      <td>0</td>\n",
       "      <td>0</td>\n",
       "      <td>5</td>\n",
       "      <td>75</td>\n",
       "      <td>1822800</td>\n",
       "      <td>0.0</td>\n",
       "    </tr>\n",
       "    <tr>\n",
       "      <th>7140</th>\n",
       "      <td>0</td>\n",
       "      <td>0</td>\n",
       "      <td>0</td>\n",
       "      <td>1</td>\n",
       "      <td>0</td>\n",
       "      <td>0</td>\n",
       "      <td>5</td>\n",
       "      <td>70</td>\n",
       "      <td>1659800</td>\n",
       "      <td>1848.0</td>\n",
       "    </tr>\n",
       "    <tr>\n",
       "      <th>4866</th>\n",
       "      <td>0</td>\n",
       "      <td>0</td>\n",
       "      <td>0</td>\n",
       "      <td>0</td>\n",
       "      <td>0</td>\n",
       "      <td>0</td>\n",
       "      <td>5</td>\n",
       "      <td>69</td>\n",
       "      <td>1205800</td>\n",
       "      <td>0.0</td>\n",
       "    </tr>\n",
       "    <tr>\n",
       "      <th>7241</th>\n",
       "      <td>0</td>\n",
       "      <td>0</td>\n",
       "      <td>0</td>\n",
       "      <td>0</td>\n",
       "      <td>0</td>\n",
       "      <td>0</td>\n",
       "      <td>5</td>\n",
       "      <td>75</td>\n",
       "      <td>1822800</td>\n",
       "      <td>0.0</td>\n",
       "    </tr>\n",
       "    <tr>\n",
       "      <th>9679</th>\n",
       "      <td>0</td>\n",
       "      <td>0</td>\n",
       "      <td>0</td>\n",
       "      <td>0</td>\n",
       "      <td>0</td>\n",
       "      <td>0</td>\n",
       "      <td>1</td>\n",
       "      <td>46</td>\n",
       "      <td>1977800</td>\n",
       "      <td>44344.0</td>\n",
       "    </tr>\n",
       "  </tbody>\n",
       "</table>\n",
       "</div>"
      ],
      "text/plain": [
       "      Intro View  Audio Journey  Self Explore  Accessories  EMI  Test Drive  \\\n",
       "8001           0              0             0            1    0           0   \n",
       "7140           0              0             0            1    0           0   \n",
       "4866           0              0             0            0    0           0   \n",
       "7241           0              0             0            0    0           0   \n",
       "9679           0              0             0            0    0           0   \n",
       "\n",
       "      Model ID  Variant ID  Showroom Price  Accessories price  \n",
       "8001         5          75         1822800                0.0  \n",
       "7140         5          70         1659800             1848.0  \n",
       "4866         5          69         1205800                0.0  \n",
       "7241         5          75         1822800                0.0  \n",
       "9679         1          46         1977800            44344.0  "
      ]
     },
     "execution_count": 44,
     "metadata": {},
     "output_type": "execute_result"
    }
   ],
   "source": [
    "X_test.head()"
   ]
  },
  {
   "cell_type": "code",
   "execution_count": 45,
   "id": "0299e555",
   "metadata": {},
   "outputs": [
    {
     "data": {
      "text/html": [
       "<div>\n",
       "<style scoped>\n",
       "    .dataframe tbody tr th:only-of-type {\n",
       "        vertical-align: middle;\n",
       "    }\n",
       "\n",
       "    .dataframe tbody tr th {\n",
       "        vertical-align: top;\n",
       "    }\n",
       "\n",
       "    .dataframe thead th {\n",
       "        text-align: right;\n",
       "    }\n",
       "</style>\n",
       "<table border=\"1\" class=\"dataframe\">\n",
       "  <thead>\n",
       "    <tr style=\"text-align: right;\">\n",
       "      <th></th>\n",
       "      <th>Book Now</th>\n",
       "    </tr>\n",
       "  </thead>\n",
       "  <tbody>\n",
       "    <tr>\n",
       "      <th>3202</th>\n",
       "      <td>0</td>\n",
       "    </tr>\n",
       "    <tr>\n",
       "      <th>5667</th>\n",
       "      <td>0</td>\n",
       "    </tr>\n",
       "    <tr>\n",
       "      <th>121</th>\n",
       "      <td>0</td>\n",
       "    </tr>\n",
       "    <tr>\n",
       "      <th>1363</th>\n",
       "      <td>0</td>\n",
       "    </tr>\n",
       "    <tr>\n",
       "      <th>2359</th>\n",
       "      <td>0</td>\n",
       "    </tr>\n",
       "  </tbody>\n",
       "</table>\n",
       "</div>"
      ],
      "text/plain": [
       "      Book Now\n",
       "3202         0\n",
       "5667         0\n",
       "121          0\n",
       "1363         0\n",
       "2359         0"
      ]
     },
     "execution_count": 45,
     "metadata": {},
     "output_type": "execute_result"
    }
   ],
   "source": [
    "y_train.head()"
   ]
  },
  {
   "cell_type": "code",
   "execution_count": 46,
   "id": "8b9a04cd",
   "metadata": {},
   "outputs": [
    {
     "data": {
      "text/html": [
       "<div>\n",
       "<style scoped>\n",
       "    .dataframe tbody tr th:only-of-type {\n",
       "        vertical-align: middle;\n",
       "    }\n",
       "\n",
       "    .dataframe tbody tr th {\n",
       "        vertical-align: top;\n",
       "    }\n",
       "\n",
       "    .dataframe thead th {\n",
       "        text-align: right;\n",
       "    }\n",
       "</style>\n",
       "<table border=\"1\" class=\"dataframe\">\n",
       "  <thead>\n",
       "    <tr style=\"text-align: right;\">\n",
       "      <th></th>\n",
       "      <th>Book Now</th>\n",
       "    </tr>\n",
       "  </thead>\n",
       "  <tbody>\n",
       "    <tr>\n",
       "      <th>8001</th>\n",
       "      <td>0</td>\n",
       "    </tr>\n",
       "    <tr>\n",
       "      <th>7140</th>\n",
       "      <td>0</td>\n",
       "    </tr>\n",
       "    <tr>\n",
       "      <th>4866</th>\n",
       "      <td>0</td>\n",
       "    </tr>\n",
       "    <tr>\n",
       "      <th>7241</th>\n",
       "      <td>0</td>\n",
       "    </tr>\n",
       "    <tr>\n",
       "      <th>9679</th>\n",
       "      <td>0</td>\n",
       "    </tr>\n",
       "  </tbody>\n",
       "</table>\n",
       "</div>"
      ],
      "text/plain": [
       "      Book Now\n",
       "8001         0\n",
       "7140         0\n",
       "4866         0\n",
       "7241         0\n",
       "9679         0"
      ]
     },
     "execution_count": 46,
     "metadata": {},
     "output_type": "execute_result"
    }
   ],
   "source": [
    "y_test.head()"
   ]
  },
  {
   "cell_type": "code",
   "execution_count": 47,
   "id": "07a442ed",
   "metadata": {},
   "outputs": [],
   "source": [
    "from collections import Counter\n",
    "from sklearn.datasets import make_classification\n",
    "from imblearn.over_sampling import SMOTE "
   ]
  },
  {
   "cell_type": "code",
   "execution_count": 48,
   "id": "b6f8c3cf",
   "metadata": {},
   "outputs": [],
   "source": [
    "X, y = make_classification(n_samples=1000, n_features=2, n_redundant=0, n_clusters_per_class=1, weights=[0.975], flip_y=0, random_state=7)"
   ]
  },
  {
   "cell_type": "code",
   "execution_count": 49,
   "id": "4dbcf273",
   "metadata": {},
   "outputs": [
    {
     "data": {
      "text/plain": [
       "Counter({0: 975, 1: 25})"
      ]
     },
     "execution_count": 49,
     "metadata": {},
     "output_type": "execute_result"
    }
   ],
   "source": [
    "counter=Counter(y)\n",
    "counter"
   ]
  },
  {
   "cell_type": "code",
   "execution_count": 50,
   "id": "c7a82f6e",
   "metadata": {},
   "outputs": [
    {
     "data": {
      "image/png": "[encoded data removed]",
      "text/plain": [
       "<Figure size 432x288 with 1 Axes>"
      ]
     },
     "metadata": {
      "needs_background": "light"
     },
     "output_type": "display_data"
    }
   ],
   "source": [
    "from numpy import where\n",
    "\n",
    "for label, _ in counter.items():\n",
    "    row_ix = where(y == label)[0]\n",
    "    plt.scatter(X[row_ix, 0], X[row_ix, 1], label=str(label))\n",
    "plt.legend()\n",
    "plt.show()"
   ]
  },
  {
   "cell_type": "code",
   "execution_count": 51,
   "id": "6891e42f",
   "metadata": {},
   "outputs": [],
   "source": [
    "SM = SMOTE(random_state=7)\n",
    "X_train_res, y_train_res = SM.fit_resample(X_train, y_train)"
   ]
  },
  {
   "cell_type": "code",
   "execution_count": 52,
   "id": "d243c51a",
   "metadata": {},
   "outputs": [
    {
     "name": "stdout",
     "output_type": "stream",
     "text": [
      "X_train_res (18164, 10)\n",
      "y_train_res (18164, 1)\n"
     ]
    }
   ],
   "source": [
    "print('X_train_res',X_train_res.shape)\n",
    "\n",
    "print('y_train_res',y_train_res.shape)"
   ]
  },
  {
   "cell_type": "code",
   "execution_count": 53,
   "id": "8837939a",
   "metadata": {},
   "outputs": [],
   "source": [
    "oversample = SMOTE()\n",
    "X, y = oversample.fit_resample(X, y)"
   ]
  },
  {
   "cell_type": "code",
   "execution_count": 54,
   "id": "5df136b7",
   "metadata": {},
   "outputs": [
    {
     "data": {
      "text/plain": [
       "Counter({0: 975, 1: 975})"
      ]
     },
     "execution_count": 54,
     "metadata": {},
     "output_type": "execute_result"
    }
   ],
   "source": [
    "counter=Counter(y)\n",
    "counter"
   ]
  },
  {
   "cell_type": "code",
   "execution_count": 55,
   "id": "aab8b9f6",
   "metadata": {},
   "outputs": [
    {
     "data": {
      "image/png": "[encoded data removed]",
      "text/plain": [
       "<Figure size 432x288 with 1 Axes>"
      ]
     },
     "metadata": {
      "needs_background": "light"
     },
     "output_type": "display_data"
    }
   ],
   "source": [
    "for label, _ in counter.items():\n",
    "    row_ix = where(y == label)[0]\n",
    "    plt.scatter(X[row_ix, 0], X[row_ix, 1], label=str(label))\n",
    "plt.legend()\n",
    "plt.show()"
   ]
  },
  {
   "cell_type": "code",
   "execution_count": 56,
   "id": "4f8ec503",
   "metadata": {},
   "outputs": [
    {
     "name": "stdout",
     "output_type": "stream",
     "text": [
      "<class 'pandas.core.frame.DataFrame'>\n",
      "Int64Index: 9118 entries, 3202 to 12463\n",
      "Data columns (total 10 columns):\n",
      " #   Column             Non-Null Count  Dtype  \n",
      "---  ------             --------------  -----  \n",
      " 0   Intro View         9118 non-null   int64  \n",
      " 1   Audio Journey      9118 non-null   int64  \n",
      " 2   Self Explore       9118 non-null   int64  \n",
      " 3   Accessories        9118 non-null   int64  \n",
      " 4   EMI                9118 non-null   int64  \n",
      " 5   Test Drive         9118 non-null   int64  \n",
      " 6   Model ID           9118 non-null   int64  \n",
      " 7   Variant ID         9118 non-null   int64  \n",
      " 8   Showroom Price     9118 non-null   int64  \n",
      " 9   Accessories price  9118 non-null   float64\n",
      "dtypes: float64(1), int64(9)\n",
      "memory usage: 783.6 KB\n"
     ]
    }
   ],
   "source": [
    "X_train.info()"
   ]
  },
  {
   "cell_type": "code",
   "execution_count": 57,
   "id": "360f6d53",
   "metadata": {},
   "outputs": [
    {
     "name": "stdout",
     "output_type": "stream",
     "text": [
      "<class 'pandas.core.frame.DataFrame'>\n",
      "Int64Index: 3908 entries, 8001 to 7791\n",
      "Data columns (total 10 columns):\n",
      " #   Column             Non-Null Count  Dtype  \n",
      "---  ------             --------------  -----  \n",
      " 0   Intro View         3908 non-null   int64  \n",
      " 1   Audio Journey      3908 non-null   int64  \n",
      " 2   Self Explore       3908 non-null   int64  \n",
      " 3   Accessories        3908 non-null   int64  \n",
      " 4   EMI                3908 non-null   int64  \n",
      " 5   Test Drive         3908 non-null   int64  \n",
      " 6   Model ID           3908 non-null   int64  \n",
      " 7   Variant ID         3908 non-null   int64  \n",
      " 8   Showroom Price     3908 non-null   int64  \n",
      " 9   Accessories price  3908 non-null   float64\n",
      "dtypes: float64(1), int64(9)\n",
      "memory usage: 335.8 KB\n"
     ]
    }
   ],
   "source": [
    "X_test.info()"
   ]
  },
  {
   "cell_type": "code",
   "execution_count": 58,
   "id": "766caafc",
   "metadata": {},
   "outputs": [
    {
     "name": "stdout",
     "output_type": "stream",
     "text": [
      "<class 'pandas.core.frame.DataFrame'>\n",
      "RangeIndex: 18164 entries, 0 to 18163\n",
      "Data columns (total 10 columns):\n",
      " #   Column             Non-Null Count  Dtype  \n",
      "---  ------             --------------  -----  \n",
      " 0   Intro View         18164 non-null  int64  \n",
      " 1   Audio Journey      18164 non-null  int64  \n",
      " 2   Self Explore       18164 non-null  int64  \n",
      " 3   Accessories        18164 non-null  int64  \n",
      " 4   EMI                18164 non-null  int64  \n",
      " 5   Test Drive         18164 non-null  int64  \n",
      " 6   Model ID           18164 non-null  int64  \n",
      " 7   Variant ID         18164 non-null  int64  \n",
      " 8   Showroom Price     18164 non-null  int64  \n",
      " 9   Accessories price  18164 non-null  float64\n",
      "dtypes: float64(1), int64(9)\n",
      "memory usage: 1.4 MB\n"
     ]
    }
   ],
   "source": [
    "X_train_res.info()"
   ]
  },
  {
   "cell_type": "code",
   "execution_count": 59,
   "id": "1ba525b1",
   "metadata": {},
   "outputs": [],
   "source": [
    "from sklearn.ensemble import GradientBoostingClassifier\n",
    "\n",
    "gbcl = GradientBoostingClassifier(random_state=7)\n",
    "gbcl = gbcl.fit(X_train_res, y_train_res)"
   ]
  },
  {
   "cell_type": "code",
   "execution_count": 60,
   "id": "cb4079b3",
   "metadata": {},
   "outputs": [
    {
     "name": "stdout",
     "output_type": "stream",
     "text": [
      "0.9386148425456948\n",
      "[[8363  719]\n",
      " [ 396 8686]]\n",
      "              precision    recall  f1-score   support\n",
      "\n",
      "           0       0.95      0.92      0.94      9082\n",
      "           1       0.92      0.96      0.94      9082\n",
      "\n",
      "    accuracy                           0.94     18164\n",
      "   macro avg       0.94      0.94      0.94     18164\n",
      "weighted avg       0.94      0.94      0.94     18164\n",
      "\n"
     ]
    }
   ],
   "source": [
    "y_train_predict = gbcl.predict(X_train_res)\n",
    "model_score = gbcl.score(X_train_res, y_train_res)\n",
    "\n",
    "print(model_score)\n",
    "\n",
    "print(metrics.confusion_matrix(y_train_res, y_train_predict))\n",
    "print(metrics.classification_report(y_train_res, y_train_predict))"
   ]
  },
  {
   "cell_type": "code",
   "execution_count": 61,
   "id": "3211ba99",
   "metadata": {},
   "outputs": [
    {
     "name": "stdout",
     "output_type": "stream",
     "text": [
      "0.9240020470829069\n",
      "[[3610  283]\n",
      " [  14    1]]\n",
      "              precision    recall  f1-score   support\n",
      "\n",
      "           0       1.00      0.93      0.96      3893\n",
      "           1       0.00      0.07      0.01        15\n",
      "\n",
      "    accuracy                           0.92      3908\n",
      "   macro avg       0.50      0.50      0.48      3908\n",
      "weighted avg       0.99      0.92      0.96      3908\n",
      "\n"
     ]
    }
   ],
   "source": [
    "y_test_predict = gbcl.predict(X_test)\n",
    "model_score = gbcl.score(X_test, y_test)\n",
    "\n",
    "print(model_score)\n",
    "\n",
    "print(metrics.confusion_matrix(y_test, y_test_predict))\n",
    "print(metrics.classification_report(y_test, y_test_predict))"
   ]
  },
  {
   "cell_type": "code",
   "execution_count": 62,
   "id": "cebc52bd",
   "metadata": {},
   "outputs": [
    {
     "data": {
      "text/html": [
       "<style>#sk-container-id-1 {color: black;background-color: white;}#sk-container-id-1 pre{padding: 0;}#sk-container-id-1 div.sk-toggleable {background-color: white;}#sk-container-id-1 label.sk-toggleable__label {cursor: pointer;display: block;width: 100%;margin-bottom: 0;padding: 0.3em;box-sizing: border-box;text-align: center;}#sk-container-id-1 label.sk-toggleable__label-arrow:before {content: \"▸\";float: left;margin-right: 0.25em;color: #696969;}#sk-container-id-1 label.sk-toggleable__label-arrow:hover:before {color: black;}#sk-container-id-1 div.sk-estimator:hover label.sk-toggleable__label-arrow:before {color: black;}#sk-container-id-1 div.sk-toggleable__content {max-height: 0;max-width: 0;overflow: hidden;text-align: left;background-color: #f0f8ff;}#sk-container-id-1 div.sk-toggleable__content pre {margin: 0.2em;color: black;border-radius: 0.25em;background-color: #f0f8ff;}#sk-container-id-1 input.sk-toggleable__control:checked~div.sk-toggleable__content {max-height: 200px;max-width: 100%;overflow: auto;}#sk-container-id-1 input.sk-toggleable__control:checked~label.sk-toggleable__label-arrow:before {content: \"▾\";}#sk-container-id-1 div.sk-estimator input.sk-toggleable__control:checked~label.sk-toggleable__label {background-color: #d4ebff;}#sk-container-id-1 div.sk-label input.sk-toggleable__control:checked~label.sk-toggleable__label {background-color: #d4ebff;}#sk-container-id-1 input.sk-hidden--visually {border: 0;clip: rect(1px 1px 1px 1px);clip: rect(1px, 1px, 1px, 1px);height: 1px;margin: -1px;overflow: hidden;padding: 0;position: absolute;width: 1px;}#sk-container-id-1 div.sk-estimator {font-family: monospace;background-color: #f0f8ff;border: 1px dotted black;border-radius: 0.25em;box-sizing: border-box;margin-bottom: 0.5em;}#sk-container-id-1 div.sk-estimator:hover {background-color: #d4ebff;}#sk-container-id-1 div.sk-parallel-item::after {content: \"\";width: 100%;border-bottom: 1px solid gray;flex-grow: 1;}#sk-container-id-1 div.sk-label:hover label.sk-toggleable__label {background-color: #d4ebff;}#sk-container-id-1 div.sk-serial::before {content: \"\";position: absolute;border-left: 1px solid gray;box-sizing: border-box;top: 0;bottom: 0;left: 50%;z-index: 0;}#sk-container-id-1 div.sk-serial {display: flex;flex-direction: column;align-items: center;background-color: white;padding-right: 0.2em;padding-left: 0.2em;position: relative;}#sk-container-id-1 div.sk-item {position: relative;z-index: 1;}#sk-container-id-1 div.sk-parallel {display: flex;align-items: stretch;justify-content: center;background-color: white;position: relative;}#sk-container-id-1 div.sk-item::before, #sk-container-id-1 div.sk-parallel-item::before {content: \"\";position: absolute;border-left: 1px solid gray;box-sizing: border-box;top: 0;bottom: 0;left: 50%;z-index: -1;}#sk-container-id-1 div.sk-parallel-item {display: flex;flex-direction: column;z-index: 1;position: relative;background-color: white;}#sk-container-id-1 div.sk-parallel-item:first-child::after {align-self: flex-end;width: 50%;}#sk-container-id-1 div.sk-parallel-item:last-child::after {align-self: flex-start;width: 50%;}#sk-container-id-1 div.sk-parallel-item:only-child::after {width: 0;}#sk-container-id-1 div.sk-dashed-wrapped {border: 1px dashed gray;margin: 0 0.4em 0.5em 0.4em;box-sizing: border-box;padding-bottom: 0.4em;background-color: white;}#sk-container-id-1 div.sk-label label {font-family: monospace;font-weight: bold;display: inline-block;line-height: 1.2em;}#sk-container-id-1 div.sk-label-container {text-align: center;}#sk-container-id-1 div.sk-container {/* jupyter's `normalize.less` sets `[hidden] { display: none; }` but bootstrap.min.css set `[hidden] { display: none !important; }` so we also need the `!important` here to be able to override the default hidden behavior on the sphinx rendered scikit-learn.org. See: https://github.com/scikit-learn/scikit-learn/issues/21755 */display: inline-block !important;position: relative;}#sk-container-id-1 div.sk-text-repr-fallback {display: none;}</style><div id=\"sk-container-id-1\" class=\"sk-top-container\"><div class=\"sk-text-repr-fallback\"><pre>RandomForestClassifier(random_state=7)</pre><b>In a Jupyter environment, please rerun this cell to show the HTML representation or trust the notebook. <br />On GitHub, the HTML representation is unable to render, please try loading this page with nbviewer.org.</b></div><div class=\"sk-container\" hidden><div class=\"sk-item\"><div class=\"sk-estimator sk-toggleable\"><input class=\"sk-toggleable__control sk-hidden--visually\" id=\"sk-estimator-id-1\" type=\"checkbox\" checked><label for=\"sk-estimator-id-1\" class=\"sk-toggleable__label sk-toggleable__label-arrow\">RandomForestClassifier</label><div class=\"sk-toggleable__content\"><pre>RandomForestClassifier(random_state=7)</pre></div></div></div></div></div>"
      ],
      "text/plain": [
       "RandomForestClassifier(random_state=7)"
      ]
     },
     "execution_count": 62,
     "metadata": {},
     "output_type": "execute_result"
    }
   ],
   "source": [
    "from sklearn.ensemble import RandomForestClassifier\n",
    "\n",
    "RF_model=RandomForestClassifier(n_estimators=100,random_state=7)\n",
    "RF_model.fit(X_train_res, y_train_res)"
   ]
  },
  {
   "cell_type": "code",
   "execution_count": 63,
   "id": "5093a6de",
   "metadata": {},
   "outputs": [
    {
     "name": "stdout",
     "output_type": "stream",
     "text": [
      "0.9836489759964765\n",
      "[[8803  279]\n",
      " [  18 9064]]\n",
      "              precision    recall  f1-score   support\n",
      "\n",
      "           0       1.00      0.97      0.98      9082\n",
      "           1       0.97      1.00      0.98      9082\n",
      "\n",
      "    accuracy                           0.98     18164\n",
      "   macro avg       0.98      0.98      0.98     18164\n",
      "weighted avg       0.98      0.98      0.98     18164\n",
      "\n"
     ]
    }
   ],
   "source": [
    "y_train_predict = RF_model.predict(X_train_res)\n",
    "model_score = RF_model.score(X_train_res, y_train_res)\n",
    "\n",
    "print(model_score)\n",
    "\n",
    "print(metrics.confusion_matrix(y_train_res, y_train_predict))\n",
    "print(metrics.classification_report(y_train_res, y_train_predict))"
   ]
  },
  {
   "cell_type": "code",
   "execution_count": 64,
   "id": "18a726d8",
   "metadata": {},
   "outputs": [
    {
     "name": "stdout",
     "output_type": "stream",
     "text": [
      "0.9595701125895599\n",
      "[[3749  144]\n",
      " [  14    1]]\n",
      "              precision    recall  f1-score   support\n",
      "\n",
      "           0       1.00      0.96      0.98      3893\n",
      "           1       0.01      0.07      0.01        15\n",
      "\n",
      "    accuracy                           0.96      3908\n",
      "   macro avg       0.50      0.51      0.50      3908\n",
      "weighted avg       0.99      0.96      0.98      3908\n",
      "\n"
     ]
    }
   ],
   "source": [
    "y_test_predict = RF_model.predict(X_test)\n",
    "model_score = RF_model.score(X_test, y_test)\n",
    "\n",
    "print(model_score)\n",
    "\n",
    "print(metrics.confusion_matrix(y_test, y_test_predict))\n",
    "print(metrics.classification_report(y_test, y_test_predict))"
   ]
  }
 ],
 "metadata": {
  "kernelspec": {
   "display_name": "Python 3",
   "language": "python",
   "name": "python3"
  },
  "language_info": {
   "codemirror_mode": {
    "name": "ipython",
    "version": 3
   },
   "file_extension": ".py",
   "mimetype": "text/x-python",
   "name": "python",
   "nbconvert_exporter": "python",
   "pygments_lexer": "ipython3",
   "version": "3.8.8"
  }
 },
 "nbformat": 4,
 "nbformat_minor": 5
}
